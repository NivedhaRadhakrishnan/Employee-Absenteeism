{
 "cells": [
  {
   "cell_type": "code",
   "execution_count": 1,
   "metadata": {},
   "outputs": [],
   "source": [
    "#Load libraries\n",
    "import os\n",
    "import pandas as pd\n",
    "import numpy as np\n",
    "import matplotlib.pyplot as plt\n",
    "import seaborn as sns\n",
    "import statistics\n",
    "from statsmodels.stats.outliers_influence import variance_inflation_factor\n",
    "from scipy import stats\n",
    "from sklearn.model_selection import train_test_split\n",
    "from sklearn.metrics import mean_squared_error\n",
    "from sklearn.metrics import r2_score\n",
    "from sklearn.linear_model import LinearRegression\n",
    "from sklearn.tree import DecisionTreeRegressor\n",
    "from sklearn.ensemble import RandomForestRegressor\n",
    "import warnings\n",
    "sns.set(style=\"ticks\", color_codes=True)\n",
    "warnings.filterwarnings(\"ignore\")\n",
    "%matplotlib inline"
   ]
  },
  {
   "cell_type": "code",
   "execution_count": 2,
   "metadata": {},
   "outputs": [],
   "source": [
    "#Set working directory\n",
    "os.chdir(\"\")"
   ]
  },
  {
   "cell_type": "code",
   "execution_count": 3,
   "metadata": {},
   "outputs": [],
   "source": [
    "#Load data\n",
    "absenteeism_data = pd.read_csv(\"Absenteeism_dataset.csv\")"
   ]
  },
  {
   "cell_type": "code",
   "execution_count": 4,
   "metadata": {},
   "outputs": [],
   "source": [
    "#Removing spaces from column headers\n",
    "absenteeism_data.columns = absenteeism_data.columns.str.replace(' ', '_')"
   ]
  },
  {
   "cell_type": "markdown",
   "metadata": {},
   "source": [
    "# Exploratory Data Analysis"
   ]
  },
  {
   "cell_type": "code",
   "execution_count": 5,
   "metadata": {},
   "outputs": [],
   "source": [
    "#Renaming column\n",
    "absenteeism_data = absenteeism_data.rename(columns = {'Work_load_Average/day_': 'Work_load_Average_per_day'})"
   ]
  },
  {
   "cell_type": "code",
   "execution_count": 6,
   "metadata": {},
   "outputs": [],
   "source": [
    "# #Renaming column and parsing object datatype into int\n",
    "# absenteeism_data['Work_load_Average_per_day'] = absenteeism_data[pd.to_numeric(absenteeism_data.Work_load_Average_per_day, errors='coerce').isnull()]\n",
    "# absenteeism_data['Work_load_Average_per_day'] = absenteeism_data['Work_load_Average_per_day'].astype(str).astype(float)"
   ]
  },
  {
   "cell_type": "code",
   "execution_count": 7,
   "metadata": {},
   "outputs": [],
   "source": [
    "#Assigning levels to the categories\n",
    "lis = []\n",
    "for i in range(0, absenteeism_data.shape[1]):\n",
    "    #print(i)\n",
    "    if(absenteeism_data.iloc[:,i].dtypes == 'object'):\n",
    "        absenteeism_data.iloc[:,i] = pd.Categorical(absenteeism_data.iloc[:,i])\n",
    "        #print(marketing_train[[i]])\n",
    "        absenteeism_data.iloc[:,i] = absenteeism_data.iloc[:,i].cat.codes \n",
    "        absenteeism_data.iloc[:,i] = absenteeism_data.iloc[:,i].astype('float')\n",
    "        lis.append(absenteeism_data.columns[i])"
   ]
  },
  {
   "cell_type": "code",
   "execution_count": 8,
   "metadata": {},
   "outputs": [
    {
     "data": {
      "text/html": [
       "<div>\n",
       "<style scoped>\n",
       "    .dataframe tbody tr th:only-of-type {\n",
       "        vertical-align: middle;\n",
       "    }\n",
       "\n",
       "    .dataframe tbody tr th {\n",
       "        vertical-align: top;\n",
       "    }\n",
       "\n",
       "    .dataframe thead th {\n",
       "        text-align: right;\n",
       "    }\n",
       "</style>\n",
       "<table border=\"1\" class=\"dataframe\">\n",
       "  <thead>\n",
       "    <tr style=\"text-align: right;\">\n",
       "      <th></th>\n",
       "      <th>ID</th>\n",
       "      <th>Reason_for_absence</th>\n",
       "      <th>Month_of_absence</th>\n",
       "      <th>Day_of_the_week</th>\n",
       "      <th>Seasons</th>\n",
       "      <th>Transportation_expense</th>\n",
       "      <th>Distance_from_Residence_to_Work</th>\n",
       "      <th>Service_time</th>\n",
       "      <th>Age</th>\n",
       "      <th>Work_load_Average_per_day</th>\n",
       "      <th>...</th>\n",
       "      <th>Disciplinary_failure</th>\n",
       "      <th>Education</th>\n",
       "      <th>Son</th>\n",
       "      <th>Social_drinker</th>\n",
       "      <th>Social_smoker</th>\n",
       "      <th>Pet</th>\n",
       "      <th>Weight</th>\n",
       "      <th>Height</th>\n",
       "      <th>Body_mass_index</th>\n",
       "      <th>Absenteeism_time_in_hours</th>\n",
       "    </tr>\n",
       "  </thead>\n",
       "  <tbody>\n",
       "    <tr>\n",
       "      <th>0</th>\n",
       "      <td>11</td>\n",
       "      <td>26.0</td>\n",
       "      <td>7.0</td>\n",
       "      <td>3</td>\n",
       "      <td>1</td>\n",
       "      <td>289.0</td>\n",
       "      <td>36.0</td>\n",
       "      <td>13.0</td>\n",
       "      <td>33.0</td>\n",
       "      <td>6.0</td>\n",
       "      <td>...</td>\n",
       "      <td>0.0</td>\n",
       "      <td>1.0</td>\n",
       "      <td>2.0</td>\n",
       "      <td>1.0</td>\n",
       "      <td>0.0</td>\n",
       "      <td>1.0</td>\n",
       "      <td>90.0</td>\n",
       "      <td>172.0</td>\n",
       "      <td>30.0</td>\n",
       "      <td>4.0</td>\n",
       "    </tr>\n",
       "    <tr>\n",
       "      <th>1</th>\n",
       "      <td>36</td>\n",
       "      <td>0.0</td>\n",
       "      <td>7.0</td>\n",
       "      <td>3</td>\n",
       "      <td>1</td>\n",
       "      <td>118.0</td>\n",
       "      <td>13.0</td>\n",
       "      <td>18.0</td>\n",
       "      <td>50.0</td>\n",
       "      <td>6.0</td>\n",
       "      <td>...</td>\n",
       "      <td>1.0</td>\n",
       "      <td>1.0</td>\n",
       "      <td>1.0</td>\n",
       "      <td>1.0</td>\n",
       "      <td>0.0</td>\n",
       "      <td>0.0</td>\n",
       "      <td>98.0</td>\n",
       "      <td>178.0</td>\n",
       "      <td>31.0</td>\n",
       "      <td>0.0</td>\n",
       "    </tr>\n",
       "    <tr>\n",
       "      <th>2</th>\n",
       "      <td>3</td>\n",
       "      <td>23.0</td>\n",
       "      <td>7.0</td>\n",
       "      <td>4</td>\n",
       "      <td>1</td>\n",
       "      <td>179.0</td>\n",
       "      <td>51.0</td>\n",
       "      <td>18.0</td>\n",
       "      <td>38.0</td>\n",
       "      <td>6.0</td>\n",
       "      <td>...</td>\n",
       "      <td>0.0</td>\n",
       "      <td>1.0</td>\n",
       "      <td>0.0</td>\n",
       "      <td>1.0</td>\n",
       "      <td>0.0</td>\n",
       "      <td>0.0</td>\n",
       "      <td>89.0</td>\n",
       "      <td>170.0</td>\n",
       "      <td>31.0</td>\n",
       "      <td>2.0</td>\n",
       "    </tr>\n",
       "    <tr>\n",
       "      <th>3</th>\n",
       "      <td>7</td>\n",
       "      <td>7.0</td>\n",
       "      <td>7.0</td>\n",
       "      <td>5</td>\n",
       "      <td>1</td>\n",
       "      <td>279.0</td>\n",
       "      <td>5.0</td>\n",
       "      <td>14.0</td>\n",
       "      <td>39.0</td>\n",
       "      <td>6.0</td>\n",
       "      <td>...</td>\n",
       "      <td>0.0</td>\n",
       "      <td>1.0</td>\n",
       "      <td>2.0</td>\n",
       "      <td>1.0</td>\n",
       "      <td>1.0</td>\n",
       "      <td>0.0</td>\n",
       "      <td>68.0</td>\n",
       "      <td>168.0</td>\n",
       "      <td>24.0</td>\n",
       "      <td>4.0</td>\n",
       "    </tr>\n",
       "    <tr>\n",
       "      <th>4</th>\n",
       "      <td>11</td>\n",
       "      <td>23.0</td>\n",
       "      <td>7.0</td>\n",
       "      <td>5</td>\n",
       "      <td>1</td>\n",
       "      <td>289.0</td>\n",
       "      <td>36.0</td>\n",
       "      <td>13.0</td>\n",
       "      <td>33.0</td>\n",
       "      <td>6.0</td>\n",
       "      <td>...</td>\n",
       "      <td>0.0</td>\n",
       "      <td>1.0</td>\n",
       "      <td>2.0</td>\n",
       "      <td>1.0</td>\n",
       "      <td>0.0</td>\n",
       "      <td>1.0</td>\n",
       "      <td>90.0</td>\n",
       "      <td>172.0</td>\n",
       "      <td>30.0</td>\n",
       "      <td>2.0</td>\n",
       "    </tr>\n",
       "  </tbody>\n",
       "</table>\n",
       "<p>5 rows × 21 columns</p>\n",
       "</div>"
      ],
      "text/plain": [
       "   ID  Reason_for_absence  Month_of_absence  Day_of_the_week  Seasons  \\\n",
       "0  11                26.0               7.0                3        1   \n",
       "1  36                 0.0               7.0                3        1   \n",
       "2   3                23.0               7.0                4        1   \n",
       "3   7                 7.0               7.0                5        1   \n",
       "4  11                23.0               7.0                5        1   \n",
       "\n",
       "   Transportation_expense  Distance_from_Residence_to_Work  Service_time  \\\n",
       "0                   289.0                             36.0          13.0   \n",
       "1                   118.0                             13.0          18.0   \n",
       "2                   179.0                             51.0          18.0   \n",
       "3                   279.0                              5.0          14.0   \n",
       "4                   289.0                             36.0          13.0   \n",
       "\n",
       "    Age  Work_load_Average_per_day  ...  Disciplinary_failure  Education  Son  \\\n",
       "0  33.0                        6.0  ...                   0.0        1.0  2.0   \n",
       "1  50.0                        6.0  ...                   1.0        1.0  1.0   \n",
       "2  38.0                        6.0  ...                   0.0        1.0  0.0   \n",
       "3  39.0                        6.0  ...                   0.0        1.0  2.0   \n",
       "4  33.0                        6.0  ...                   0.0        1.0  2.0   \n",
       "\n",
       "   Social_drinker  Social_smoker  Pet  Weight  Height  Body_mass_index  \\\n",
       "0             1.0            0.0  1.0    90.0   172.0             30.0   \n",
       "1             1.0            0.0  0.0    98.0   178.0             31.0   \n",
       "2             1.0            0.0  0.0    89.0   170.0             31.0   \n",
       "3             1.0            1.0  0.0    68.0   168.0             24.0   \n",
       "4             1.0            0.0  1.0    90.0   172.0             30.0   \n",
       "\n",
       "   Absenteeism_time_in_hours  \n",
       "0                        4.0  \n",
       "1                        0.0  \n",
       "2                        2.0  \n",
       "3                        4.0  \n",
       "4                        2.0  \n",
       "\n",
       "[5 rows x 21 columns]"
      ]
     },
     "execution_count": 8,
     "metadata": {},
     "output_type": "execute_result"
    }
   ],
   "source": [
    "#Observing sample data\n",
    "absenteeism_data.head()"
   ]
  },
  {
   "cell_type": "code",
   "execution_count": 9,
   "metadata": {},
   "outputs": [
    {
     "data": {
      "text/html": [
       "<div>\n",
       "<style scoped>\n",
       "    .dataframe tbody tr th:only-of-type {\n",
       "        vertical-align: middle;\n",
       "    }\n",
       "\n",
       "    .dataframe tbody tr th {\n",
       "        vertical-align: top;\n",
       "    }\n",
       "\n",
       "    .dataframe thead th {\n",
       "        text-align: right;\n",
       "    }\n",
       "</style>\n",
       "<table border=\"1\" class=\"dataframe\">\n",
       "  <thead>\n",
       "    <tr style=\"text-align: right;\">\n",
       "      <th></th>\n",
       "      <th>ID</th>\n",
       "      <th>Reason_for_absence</th>\n",
       "      <th>Month_of_absence</th>\n",
       "      <th>Day_of_the_week</th>\n",
       "      <th>Seasons</th>\n",
       "      <th>Transportation_expense</th>\n",
       "      <th>Distance_from_Residence_to_Work</th>\n",
       "      <th>Service_time</th>\n",
       "      <th>Age</th>\n",
       "      <th>Work_load_Average_per_day</th>\n",
       "      <th>...</th>\n",
       "      <th>Disciplinary_failure</th>\n",
       "      <th>Education</th>\n",
       "      <th>Son</th>\n",
       "      <th>Social_drinker</th>\n",
       "      <th>Social_smoker</th>\n",
       "      <th>Pet</th>\n",
       "      <th>Weight</th>\n",
       "      <th>Height</th>\n",
       "      <th>Body_mass_index</th>\n",
       "      <th>Absenteeism_time_in_hours</th>\n",
       "    </tr>\n",
       "  </thead>\n",
       "  <tbody>\n",
       "    <tr>\n",
       "      <th>count</th>\n",
       "      <td>740.000000</td>\n",
       "      <td>737.000000</td>\n",
       "      <td>739.000000</td>\n",
       "      <td>740.000000</td>\n",
       "      <td>740.000000</td>\n",
       "      <td>733.000000</td>\n",
       "      <td>737.000000</td>\n",
       "      <td>737.000000</td>\n",
       "      <td>737.000000</td>\n",
       "      <td>740.000000</td>\n",
       "      <td>...</td>\n",
       "      <td>734.000000</td>\n",
       "      <td>730.000000</td>\n",
       "      <td>734.000000</td>\n",
       "      <td>737.000000</td>\n",
       "      <td>736.000000</td>\n",
       "      <td>738.000000</td>\n",
       "      <td>739.000000</td>\n",
       "      <td>726.000000</td>\n",
       "      <td>709.000000</td>\n",
       "      <td>718.000000</td>\n",
       "    </tr>\n",
       "    <tr>\n",
       "      <th>mean</th>\n",
       "      <td>18.017568</td>\n",
       "      <td>19.188602</td>\n",
       "      <td>6.319350</td>\n",
       "      <td>3.914865</td>\n",
       "      <td>2.544595</td>\n",
       "      <td>221.035471</td>\n",
       "      <td>29.667571</td>\n",
       "      <td>12.565807</td>\n",
       "      <td>36.449118</td>\n",
       "      <td>17.424324</td>\n",
       "      <td>...</td>\n",
       "      <td>0.053134</td>\n",
       "      <td>1.295890</td>\n",
       "      <td>1.017711</td>\n",
       "      <td>0.567164</td>\n",
       "      <td>0.073370</td>\n",
       "      <td>0.746612</td>\n",
       "      <td>79.063599</td>\n",
       "      <td>172.152893</td>\n",
       "      <td>26.684062</td>\n",
       "      <td>6.977716</td>\n",
       "    </tr>\n",
       "    <tr>\n",
       "      <th>std</th>\n",
       "      <td>11.021247</td>\n",
       "      <td>8.437493</td>\n",
       "      <td>3.435948</td>\n",
       "      <td>1.421675</td>\n",
       "      <td>1.111831</td>\n",
       "      <td>66.954179</td>\n",
       "      <td>14.848124</td>\n",
       "      <td>4.389813</td>\n",
       "      <td>6.480148</td>\n",
       "      <td>11.376730</td>\n",
       "      <td>...</td>\n",
       "      <td>0.224453</td>\n",
       "      <td>0.676965</td>\n",
       "      <td>1.094928</td>\n",
       "      <td>0.495805</td>\n",
       "      <td>0.260919</td>\n",
       "      <td>1.319726</td>\n",
       "      <td>12.868630</td>\n",
       "      <td>6.081065</td>\n",
       "      <td>4.292819</td>\n",
       "      <td>13.476962</td>\n",
       "    </tr>\n",
       "    <tr>\n",
       "      <th>min</th>\n",
       "      <td>1.000000</td>\n",
       "      <td>0.000000</td>\n",
       "      <td>0.000000</td>\n",
       "      <td>2.000000</td>\n",
       "      <td>1.000000</td>\n",
       "      <td>118.000000</td>\n",
       "      <td>5.000000</td>\n",
       "      <td>1.000000</td>\n",
       "      <td>27.000000</td>\n",
       "      <td>-1.000000</td>\n",
       "      <td>...</td>\n",
       "      <td>0.000000</td>\n",
       "      <td>1.000000</td>\n",
       "      <td>0.000000</td>\n",
       "      <td>0.000000</td>\n",
       "      <td>0.000000</td>\n",
       "      <td>0.000000</td>\n",
       "      <td>56.000000</td>\n",
       "      <td>163.000000</td>\n",
       "      <td>19.000000</td>\n",
       "      <td>0.000000</td>\n",
       "    </tr>\n",
       "    <tr>\n",
       "      <th>25%</th>\n",
       "      <td>9.000000</td>\n",
       "      <td>13.000000</td>\n",
       "      <td>3.000000</td>\n",
       "      <td>3.000000</td>\n",
       "      <td>2.000000</td>\n",
       "      <td>179.000000</td>\n",
       "      <td>16.000000</td>\n",
       "      <td>9.000000</td>\n",
       "      <td>31.000000</td>\n",
       "      <td>7.000000</td>\n",
       "      <td>...</td>\n",
       "      <td>0.000000</td>\n",
       "      <td>1.000000</td>\n",
       "      <td>0.000000</td>\n",
       "      <td>0.000000</td>\n",
       "      <td>0.000000</td>\n",
       "      <td>0.000000</td>\n",
       "      <td>69.000000</td>\n",
       "      <td>169.000000</td>\n",
       "      <td>24.000000</td>\n",
       "      <td>2.000000</td>\n",
       "    </tr>\n",
       "    <tr>\n",
       "      <th>50%</th>\n",
       "      <td>18.000000</td>\n",
       "      <td>23.000000</td>\n",
       "      <td>6.000000</td>\n",
       "      <td>4.000000</td>\n",
       "      <td>3.000000</td>\n",
       "      <td>225.000000</td>\n",
       "      <td>26.000000</td>\n",
       "      <td>13.000000</td>\n",
       "      <td>37.000000</td>\n",
       "      <td>17.000000</td>\n",
       "      <td>...</td>\n",
       "      <td>0.000000</td>\n",
       "      <td>1.000000</td>\n",
       "      <td>1.000000</td>\n",
       "      <td>1.000000</td>\n",
       "      <td>0.000000</td>\n",
       "      <td>0.000000</td>\n",
       "      <td>83.000000</td>\n",
       "      <td>170.000000</td>\n",
       "      <td>25.000000</td>\n",
       "      <td>3.000000</td>\n",
       "    </tr>\n",
       "    <tr>\n",
       "      <th>75%</th>\n",
       "      <td>28.000000</td>\n",
       "      <td>26.000000</td>\n",
       "      <td>9.000000</td>\n",
       "      <td>5.000000</td>\n",
       "      <td>4.000000</td>\n",
       "      <td>260.000000</td>\n",
       "      <td>50.000000</td>\n",
       "      <td>16.000000</td>\n",
       "      <td>40.000000</td>\n",
       "      <td>27.000000</td>\n",
       "      <td>...</td>\n",
       "      <td>0.000000</td>\n",
       "      <td>1.000000</td>\n",
       "      <td>2.000000</td>\n",
       "      <td>1.000000</td>\n",
       "      <td>0.000000</td>\n",
       "      <td>1.000000</td>\n",
       "      <td>89.000000</td>\n",
       "      <td>172.000000</td>\n",
       "      <td>31.000000</td>\n",
       "      <td>8.000000</td>\n",
       "    </tr>\n",
       "    <tr>\n",
       "      <th>max</th>\n",
       "      <td>36.000000</td>\n",
       "      <td>28.000000</td>\n",
       "      <td>12.000000</td>\n",
       "      <td>6.000000</td>\n",
       "      <td>4.000000</td>\n",
       "      <td>388.000000</td>\n",
       "      <td>52.000000</td>\n",
       "      <td>29.000000</td>\n",
       "      <td>58.000000</td>\n",
       "      <td>37.000000</td>\n",
       "      <td>...</td>\n",
       "      <td>1.000000</td>\n",
       "      <td>4.000000</td>\n",
       "      <td>4.000000</td>\n",
       "      <td>1.000000</td>\n",
       "      <td>1.000000</td>\n",
       "      <td>8.000000</td>\n",
       "      <td>108.000000</td>\n",
       "      <td>196.000000</td>\n",
       "      <td>38.000000</td>\n",
       "      <td>120.000000</td>\n",
       "    </tr>\n",
       "  </tbody>\n",
       "</table>\n",
       "<p>8 rows × 21 columns</p>\n",
       "</div>"
      ],
      "text/plain": [
       "               ID  Reason_for_absence  Month_of_absence  Day_of_the_week  \\\n",
       "count  740.000000          737.000000        739.000000       740.000000   \n",
       "mean    18.017568           19.188602          6.319350         3.914865   \n",
       "std     11.021247            8.437493          3.435948         1.421675   \n",
       "min      1.000000            0.000000          0.000000         2.000000   \n",
       "25%      9.000000           13.000000          3.000000         3.000000   \n",
       "50%     18.000000           23.000000          6.000000         4.000000   \n",
       "75%     28.000000           26.000000          9.000000         5.000000   \n",
       "max     36.000000           28.000000         12.000000         6.000000   \n",
       "\n",
       "          Seasons  Transportation_expense  Distance_from_Residence_to_Work  \\\n",
       "count  740.000000              733.000000                       737.000000   \n",
       "mean     2.544595              221.035471                        29.667571   \n",
       "std      1.111831               66.954179                        14.848124   \n",
       "min      1.000000              118.000000                         5.000000   \n",
       "25%      2.000000              179.000000                        16.000000   \n",
       "50%      3.000000              225.000000                        26.000000   \n",
       "75%      4.000000              260.000000                        50.000000   \n",
       "max      4.000000              388.000000                        52.000000   \n",
       "\n",
       "       Service_time         Age  Work_load_Average_per_day  ...  \\\n",
       "count    737.000000  737.000000                 740.000000  ...   \n",
       "mean      12.565807   36.449118                  17.424324  ...   \n",
       "std        4.389813    6.480148                  11.376730  ...   \n",
       "min        1.000000   27.000000                  -1.000000  ...   \n",
       "25%        9.000000   31.000000                   7.000000  ...   \n",
       "50%       13.000000   37.000000                  17.000000  ...   \n",
       "75%       16.000000   40.000000                  27.000000  ...   \n",
       "max       29.000000   58.000000                  37.000000  ...   \n",
       "\n",
       "       Disciplinary_failure   Education         Son  Social_drinker  \\\n",
       "count            734.000000  730.000000  734.000000      737.000000   \n",
       "mean               0.053134    1.295890    1.017711        0.567164   \n",
       "std                0.224453    0.676965    1.094928        0.495805   \n",
       "min                0.000000    1.000000    0.000000        0.000000   \n",
       "25%                0.000000    1.000000    0.000000        0.000000   \n",
       "50%                0.000000    1.000000    1.000000        1.000000   \n",
       "75%                0.000000    1.000000    2.000000        1.000000   \n",
       "max                1.000000    4.000000    4.000000        1.000000   \n",
       "\n",
       "       Social_smoker         Pet      Weight      Height  Body_mass_index  \\\n",
       "count     736.000000  738.000000  739.000000  726.000000       709.000000   \n",
       "mean        0.073370    0.746612   79.063599  172.152893        26.684062   \n",
       "std         0.260919    1.319726   12.868630    6.081065         4.292819   \n",
       "min         0.000000    0.000000   56.000000  163.000000        19.000000   \n",
       "25%         0.000000    0.000000   69.000000  169.000000        24.000000   \n",
       "50%         0.000000    0.000000   83.000000  170.000000        25.000000   \n",
       "75%         0.000000    1.000000   89.000000  172.000000        31.000000   \n",
       "max         1.000000    8.000000  108.000000  196.000000        38.000000   \n",
       "\n",
       "       Absenteeism_time_in_hours  \n",
       "count                 718.000000  \n",
       "mean                    6.977716  \n",
       "std                    13.476962  \n",
       "min                     0.000000  \n",
       "25%                     2.000000  \n",
       "50%                     3.000000  \n",
       "75%                     8.000000  \n",
       "max                   120.000000  \n",
       "\n",
       "[8 rows x 21 columns]"
      ]
     },
     "execution_count": 9,
     "metadata": {},
     "output_type": "execute_result"
    }
   ],
   "source": [
    "#Observing summary of data\n",
    "absenteeism_data.describe()"
   ]
  },
  {
   "cell_type": "code",
   "execution_count": 10,
   "metadata": {},
   "outputs": [
    {
     "data": {
      "text/plain": [
       "ID                                   int64\n",
       "Reason_for_absence                 float64\n",
       "Month_of_absence                   float64\n",
       "Day_of_the_week                      int64\n",
       "Seasons                              int64\n",
       "Transportation_expense             float64\n",
       "Distance_from_Residence_to_Work    float64\n",
       "Service_time                       float64\n",
       "Age                                float64\n",
       "Work_load_Average_per_day          float64\n",
       "Hit_target                         float64\n",
       "Disciplinary_failure               float64\n",
       "Education                          float64\n",
       "Son                                float64\n",
       "Social_drinker                     float64\n",
       "Social_smoker                      float64\n",
       "Pet                                float64\n",
       "Weight                             float64\n",
       "Height                             float64\n",
       "Body_mass_index                    float64\n",
       "Absenteeism_time_in_hours          float64\n",
       "dtype: object"
      ]
     },
     "execution_count": 10,
     "metadata": {},
     "output_type": "execute_result"
    }
   ],
   "source": [
    "#Fetching the datatype of each column\n",
    "absenteeism_data.dtypes"
   ]
  },
  {
   "cell_type": "code",
   "execution_count": 11,
   "metadata": {},
   "outputs": [
    {
     "data": {
      "text/plain": [
       "ID                                 36\n",
       "Reason_for_absence                 28\n",
       "Month_of_absence                   13\n",
       "Day_of_the_week                     5\n",
       "Seasons                             4\n",
       "Transportation_expense             24\n",
       "Distance_from_Residence_to_Work    25\n",
       "Service_time                       18\n",
       "Age                                22\n",
       "Work_load_Average_per_day          39\n",
       "Hit_target                         13\n",
       "Disciplinary_failure                2\n",
       "Education                           4\n",
       "Son                                 5\n",
       "Social_drinker                      2\n",
       "Social_smoker                       2\n",
       "Pet                                 6\n",
       "Weight                             26\n",
       "Height                             14\n",
       "Body_mass_index                    17\n",
       "Absenteeism_time_in_hours          19\n",
       "dtype: int64"
      ]
     },
     "execution_count": 11,
     "metadata": {},
     "output_type": "execute_result"
    }
   ],
   "source": [
    "#Fetching unique value count in each column\n",
    "absenteeism_data.nunique()"
   ]
  },
  {
   "cell_type": "code",
   "execution_count": 12,
   "metadata": {},
   "outputs": [],
   "source": [
    "#Splitting the dataset into numerical and categorical variables\n",
    "numeric_variables_list = [\"Transportation_expense\",\"Distance_from_Residence_to_Work\",\"Service_time\",\"Age\",\"Work_load_Average_per_day\",\"Hit_target\",\"Weight\",\"Height\",\"Body_mass_index\",\"Absenteeism_time_in_hours\"]\n",
    "numeric_pred_variables_list = [\"Transportation_expense\",\"Distance_from_Residence_to_Work\",\"Service_time\",\"Age\",\"Work_load_Average_per_day\",\"Hit_target\",\"Weight\",\"Height\",\"Body_mass_index\"]\n",
    "categorical_pred_variable_list = [\"ID\",\"Reason_for_absence\",\"Month_of_absence\",\"Day_of_the_week\",\"Seasons\",\"Disciplinary_failure\",\"Education\",\"Son\",\"Social_drinker\",\"Social_smoker\",\"Pet\"]\n",
    "#Converting the datatype of categorical values\n",
    "for i in categorical_pred_variable_list :\n",
    "    absenteeism_data[i] = absenteeism_data[i].astype(\"category\")"
   ]
  },
  {
   "cell_type": "code",
   "execution_count": 49,
   "metadata": {},
   "outputs": [
    {
     "data": {
      "text/plain": [
       "ID                                 category\n",
       "Reason_for_absence                 category\n",
       "Month_of_absence                   category\n",
       "Day_of_the_week                    category\n",
       "Seasons                            category\n",
       "Transportation_expense              float64\n",
       "Distance_from_Residence_to_Work     float64\n",
       "Service_time                        float64\n",
       "Age                                 float64\n",
       "Work_load_Average_per_day           float64\n",
       "Hit_target                          float64\n",
       "Disciplinary_failure               category\n",
       "Education                          category\n",
       "Son                                category\n",
       "Social_drinker                     category\n",
       "Social_smoker                      category\n",
       "Pet                                category\n",
       "Weight                              float64\n",
       "Height                              float64\n",
       "Body_mass_index                     float64\n",
       "Absenteeism_time_in_hours           float64\n",
       "dtype: object"
      ]
     },
     "execution_count": 49,
     "metadata": {},
     "output_type": "execute_result"
    }
   ],
   "source": [
    "#Verifying the datatype of each column\n",
    "absenteeism_data.dtypes"
   ]
  },
  {
   "cell_type": "markdown",
   "metadata": {},
   "source": [
    "# Missing Value Analysis\n",
    "\n"
   ]
  },
  {
   "cell_type": "code",
   "execution_count": 14,
   "metadata": {},
   "outputs": [
    {
     "data": {
      "text/html": [
       "<div>\n",
       "<style scoped>\n",
       "    .dataframe tbody tr th:only-of-type {\n",
       "        vertical-align: middle;\n",
       "    }\n",
       "\n",
       "    .dataframe tbody tr th {\n",
       "        vertical-align: top;\n",
       "    }\n",
       "\n",
       "    .dataframe thead th {\n",
       "        text-align: right;\n",
       "    }\n",
       "</style>\n",
       "<table border=\"1\" class=\"dataframe\">\n",
       "  <thead>\n",
       "    <tr style=\"text-align: right;\">\n",
       "      <th></th>\n",
       "      <th>Variables</th>\n",
       "      <th>Missing_percentage</th>\n",
       "    </tr>\n",
       "  </thead>\n",
       "  <tbody>\n",
       "    <tr>\n",
       "      <th>0</th>\n",
       "      <td>Body_mass_index</td>\n",
       "      <td>31</td>\n",
       "    </tr>\n",
       "    <tr>\n",
       "      <th>1</th>\n",
       "      <td>Absenteeism_time_in_hours</td>\n",
       "      <td>22</td>\n",
       "    </tr>\n",
       "    <tr>\n",
       "      <th>2</th>\n",
       "      <td>Height</td>\n",
       "      <td>14</td>\n",
       "    </tr>\n",
       "    <tr>\n",
       "      <th>3</th>\n",
       "      <td>Education</td>\n",
       "      <td>10</td>\n",
       "    </tr>\n",
       "    <tr>\n",
       "      <th>4</th>\n",
       "      <td>Transportation_expense</td>\n",
       "      <td>7</td>\n",
       "    </tr>\n",
       "    <tr>\n",
       "      <th>5</th>\n",
       "      <td>Disciplinary_failure</td>\n",
       "      <td>6</td>\n",
       "    </tr>\n",
       "    <tr>\n",
       "      <th>6</th>\n",
       "      <td>Son</td>\n",
       "      <td>6</td>\n",
       "    </tr>\n",
       "    <tr>\n",
       "      <th>7</th>\n",
       "      <td>Hit_target</td>\n",
       "      <td>6</td>\n",
       "    </tr>\n",
       "    <tr>\n",
       "      <th>8</th>\n",
       "      <td>Social_smoker</td>\n",
       "      <td>4</td>\n",
       "    </tr>\n",
       "    <tr>\n",
       "      <th>9</th>\n",
       "      <td>Age</td>\n",
       "      <td>3</td>\n",
       "    </tr>\n",
       "    <tr>\n",
       "      <th>10</th>\n",
       "      <td>Reason_for_absence</td>\n",
       "      <td>3</td>\n",
       "    </tr>\n",
       "    <tr>\n",
       "      <th>11</th>\n",
       "      <td>Service_time</td>\n",
       "      <td>3</td>\n",
       "    </tr>\n",
       "    <tr>\n",
       "      <th>12</th>\n",
       "      <td>Distance_from_Residence_to_Work</td>\n",
       "      <td>3</td>\n",
       "    </tr>\n",
       "    <tr>\n",
       "      <th>13</th>\n",
       "      <td>Social_drinker</td>\n",
       "      <td>3</td>\n",
       "    </tr>\n",
       "    <tr>\n",
       "      <th>14</th>\n",
       "      <td>Pet</td>\n",
       "      <td>2</td>\n",
       "    </tr>\n",
       "    <tr>\n",
       "      <th>15</th>\n",
       "      <td>Weight</td>\n",
       "      <td>1</td>\n",
       "    </tr>\n",
       "    <tr>\n",
       "      <th>16</th>\n",
       "      <td>Month_of_absence</td>\n",
       "      <td>1</td>\n",
       "    </tr>\n",
       "    <tr>\n",
       "      <th>17</th>\n",
       "      <td>Work_load_Average_per_day</td>\n",
       "      <td>0</td>\n",
       "    </tr>\n",
       "    <tr>\n",
       "      <th>18</th>\n",
       "      <td>Seasons</td>\n",
       "      <td>0</td>\n",
       "    </tr>\n",
       "    <tr>\n",
       "      <th>19</th>\n",
       "      <td>Day_of_the_week</td>\n",
       "      <td>0</td>\n",
       "    </tr>\n",
       "    <tr>\n",
       "      <th>20</th>\n",
       "      <td>ID</td>\n",
       "      <td>0</td>\n",
       "    </tr>\n",
       "  </tbody>\n",
       "</table>\n",
       "</div>"
      ],
      "text/plain": [
       "                          Variables  Missing_percentage\n",
       "0                   Body_mass_index                  31\n",
       "1         Absenteeism_time_in_hours                  22\n",
       "2                            Height                  14\n",
       "3                         Education                  10\n",
       "4            Transportation_expense                   7\n",
       "5              Disciplinary_failure                   6\n",
       "6                               Son                   6\n",
       "7                        Hit_target                   6\n",
       "8                     Social_smoker                   4\n",
       "9                               Age                   3\n",
       "10               Reason_for_absence                   3\n",
       "11                     Service_time                   3\n",
       "12  Distance_from_Residence_to_Work                   3\n",
       "13                   Social_drinker                   3\n",
       "14                              Pet                   2\n",
       "15                           Weight                   1\n",
       "16                 Month_of_absence                   1\n",
       "17        Work_load_Average_per_day                   0\n",
       "18                          Seasons                   0\n",
       "19                  Day_of_the_week                   0\n",
       "20                               ID                   0"
      ]
     },
     "execution_count": 14,
     "metadata": {},
     "output_type": "execute_result"
    }
   ],
   "source": [
    "#Create dataframe with missing percentage\n",
    "missing_val = pd.DataFrame(absenteeism_data.isnull().sum())\n",
    "\n",
    "#Reset index\n",
    "missing_val = missing_val.reset_index()\n",
    "\n",
    "#Rename variable\n",
    "missing_val = missing_val.rename(columns = {'index': 'Variables', 0: 'Missing_percentage'})\n",
    "\n",
    "#descending order\n",
    "missing_val = missing_val.sort_values('Missing_percentage', ascending = False).reset_index(drop = True)\n",
    "\n",
    "#save output results \n",
    "#missing_val.to_csv(\"Absenteeism_dataset_missingvalues.csv\", index = False)\n",
    "missing_val"
   ]
  },
  {
   "cell_type": "code",
   "execution_count": 15,
   "metadata": {},
   "outputs": [],
   "source": [
    "# absenteeism_id_list = absenteeism_data['ID'].unique()\n",
    "# absenteeism_id_sorted = sorted(absenteeism_id_list)\n",
    "#absenteeism_data[\"Reason_for_absence\"].cat.categories"
   ]
  },
  {
   "cell_type": "markdown",
   "metadata": {},
   "source": [
    "## Imputation"
   ]
  },
  {
   "cell_type": "code",
   "execution_count": 16,
   "metadata": {},
   "outputs": [],
   "source": [
    "#Replacing 0s with NA as it is not logically possible for the below columns\n",
    "for i in [\"Reason_for_absence\",\"Month_of_absence\",\"Day_of_the_week\",\"Seasons\",\"Education\",\"ID\",\"Age\",\"Weight\",\"Height\",\"Body_mass_index\"]:\n",
    "        absenteeism_data[i] = absenteeism_data[i].replace(0,np.nan)"
   ]
  },
  {
   "cell_type": "code",
   "execution_count": 17,
   "metadata": {},
   "outputs": [],
   "source": [
    "#Imputing Reason_for_absence column with default value\n",
    "values_imputation = {'Reason_for_absence': 26.0}\n",
    "absenteeism_data = absenteeism_data.fillna(value=values_imputation)"
   ]
  },
  {
   "cell_type": "markdown",
   "metadata": {},
   "source": [
    "### Imputing missing values with mean/mode grouped by id"
   ]
  },
  {
   "cell_type": "code",
   "execution_count": 18,
   "metadata": {},
   "outputs": [],
   "source": [
    "#Imputing Numerical variables with mean\n",
    "for i in [\"Transportation_expense\",\"Distance_from_Residence_to_Work\",\"Service_time\",\"Age\",\"Weight\",\"Height\",\"Absenteeism_time_in_hours\"]:\n",
    "    absenteeism_data[i] = absenteeism_data[i].fillna(absenteeism_data.groupby('ID')[i].transform('mean'))"
   ]
  },
  {
   "cell_type": "code",
   "execution_count": 19,
   "metadata": {},
   "outputs": [],
   "source": [
    "#Imputing BMI values\n",
    "id_list = absenteeism_data.loc[absenteeism_data['Body_mass_index'].isnull(),'ID']\n",
    "for i in id_list:\n",
    "#     height = absenteeism_data['Height'][absenteeism_data['ID']== i]\n",
    "#     weight = absenteeism_data['Weight'][absenteeism_data['ID']== i]\n",
    "#     bmi = round((weight*10000) / (height**2))\n",
    "    absenteeism_data.loc[(absenteeism_data['Body_mass_index'].isnull()) & (absenteeism_data['ID']==i),'Body_mass_index'] = absenteeism_data.loc[absenteeism_data['ID']==i,'Body_mass_index'].mode()[0]\n",
    "    "
   ]
  },
  {
   "cell_type": "code",
   "execution_count": 20,
   "metadata": {},
   "outputs": [],
   "source": [
    "#Imputing Categorical variables with mode\n",
    "for i in [\"Reason_for_absence\",\"Education\",\"Son\",\"Social_drinker\",\"Social_smoker\",\"Pet\"]:\n",
    "    id_list = absenteeism_data.loc[absenteeism_data[i].isnull(),'ID']\n",
    "    for j in id_list:\n",
    "        absenteeism_data.loc[(absenteeism_data[i].isnull()) & (absenteeism_data['ID']==j),i] = absenteeism_data.loc[absenteeism_data['ID']==j,i].mode()[0]"
   ]
  },
  {
   "cell_type": "markdown",
   "metadata": {},
   "source": [
    "### Imputing missing values using KNN imputation"
   ]
  },
  {
   "cell_type": "code",
   "execution_count": 21,
   "metadata": {},
   "outputs": [],
   "source": [
    "# from sklearn.impute import KNNImputer"
   ]
  },
  {
   "cell_type": "code",
   "execution_count": 22,
   "metadata": {},
   "outputs": [],
   "source": [
    "# imputer = KNNImputer(n_neighbors=2)\n",
    "# absenteeism_data = imputer.fit_transform(absenteeism_data)"
   ]
  },
  {
   "cell_type": "markdown",
   "metadata": {},
   "source": [
    "### Imputing missing values with overall mean"
   ]
  },
  {
   "cell_type": "code",
   "execution_count": 23,
   "metadata": {},
   "outputs": [],
   "source": [
    "#Imputing Numerical variables with mean\n",
    "#Hit target and Work_load_Average_per_day\n",
    "absenteeism_data[\"Hit_target\"] = absenteeism_data[\"Hit_target\"].fillna(absenteeism_data[\"Hit_target\"].mean())\n",
    "absenteeism_data[\"Work_load_Average_per_day\"] = absenteeism_data[\"Work_load_Average_per_day\"].fillna(absenteeism_data[\"Work_load_Average_per_day\"].mean())\n"
   ]
  },
  {
   "cell_type": "code",
   "execution_count": 24,
   "metadata": {},
   "outputs": [],
   "source": [
    "#Categorical variables\n",
    "for i in [\"Disciplinary_failure\",\"Month_of_absence\",\"Seasons\",\"Day_of_the_week\"]:\n",
    "    absenteeism_data[i] = absenteeism_data[i].fillna(absenteeism_data[i].mode()[0])"
   ]
  },
  {
   "cell_type": "code",
   "execution_count": 25,
   "metadata": {},
   "outputs": [
    {
     "data": {
      "text/plain": [
       "0"
      ]
     },
     "execution_count": 25,
     "metadata": {},
     "output_type": "execute_result"
    }
   ],
   "source": [
    "#Checking number of missing values\n",
    "absenteeism_data.isnull().sum().sum()"
   ]
  },
  {
   "cell_type": "code",
   "execution_count": 26,
   "metadata": {},
   "outputs": [
    {
     "data": {
      "text/html": [
       "<div>\n",
       "<style scoped>\n",
       "    .dataframe tbody tr th:only-of-type {\n",
       "        vertical-align: middle;\n",
       "    }\n",
       "\n",
       "    .dataframe tbody tr th {\n",
       "        vertical-align: top;\n",
       "    }\n",
       "\n",
       "    .dataframe thead th {\n",
       "        text-align: right;\n",
       "    }\n",
       "</style>\n",
       "<table border=\"1\" class=\"dataframe\">\n",
       "  <thead>\n",
       "    <tr style=\"text-align: right;\">\n",
       "      <th></th>\n",
       "      <th>Variables</th>\n",
       "      <th>Missing_percentage</th>\n",
       "    </tr>\n",
       "  </thead>\n",
       "  <tbody>\n",
       "    <tr>\n",
       "      <th>0</th>\n",
       "      <td>ID</td>\n",
       "      <td>0</td>\n",
       "    </tr>\n",
       "    <tr>\n",
       "      <th>1</th>\n",
       "      <td>Disciplinary_failure</td>\n",
       "      <td>0</td>\n",
       "    </tr>\n",
       "    <tr>\n",
       "      <th>2</th>\n",
       "      <td>Body_mass_index</td>\n",
       "      <td>0</td>\n",
       "    </tr>\n",
       "    <tr>\n",
       "      <th>3</th>\n",
       "      <td>Height</td>\n",
       "      <td>0</td>\n",
       "    </tr>\n",
       "    <tr>\n",
       "      <th>4</th>\n",
       "      <td>Weight</td>\n",
       "      <td>0</td>\n",
       "    </tr>\n",
       "    <tr>\n",
       "      <th>5</th>\n",
       "      <td>Pet</td>\n",
       "      <td>0</td>\n",
       "    </tr>\n",
       "    <tr>\n",
       "      <th>6</th>\n",
       "      <td>Social_smoker</td>\n",
       "      <td>0</td>\n",
       "    </tr>\n",
       "    <tr>\n",
       "      <th>7</th>\n",
       "      <td>Social_drinker</td>\n",
       "      <td>0</td>\n",
       "    </tr>\n",
       "    <tr>\n",
       "      <th>8</th>\n",
       "      <td>Son</td>\n",
       "      <td>0</td>\n",
       "    </tr>\n",
       "    <tr>\n",
       "      <th>9</th>\n",
       "      <td>Education</td>\n",
       "      <td>0</td>\n",
       "    </tr>\n",
       "    <tr>\n",
       "      <th>10</th>\n",
       "      <td>Hit_target</td>\n",
       "      <td>0</td>\n",
       "    </tr>\n",
       "    <tr>\n",
       "      <th>11</th>\n",
       "      <td>Reason_for_absence</td>\n",
       "      <td>0</td>\n",
       "    </tr>\n",
       "    <tr>\n",
       "      <th>12</th>\n",
       "      <td>Work_load_Average_per_day</td>\n",
       "      <td>0</td>\n",
       "    </tr>\n",
       "    <tr>\n",
       "      <th>13</th>\n",
       "      <td>Age</td>\n",
       "      <td>0</td>\n",
       "    </tr>\n",
       "    <tr>\n",
       "      <th>14</th>\n",
       "      <td>Service_time</td>\n",
       "      <td>0</td>\n",
       "    </tr>\n",
       "    <tr>\n",
       "      <th>15</th>\n",
       "      <td>Distance_from_Residence_to_Work</td>\n",
       "      <td>0</td>\n",
       "    </tr>\n",
       "    <tr>\n",
       "      <th>16</th>\n",
       "      <td>Transportation_expense</td>\n",
       "      <td>0</td>\n",
       "    </tr>\n",
       "    <tr>\n",
       "      <th>17</th>\n",
       "      <td>Seasons</td>\n",
       "      <td>0</td>\n",
       "    </tr>\n",
       "    <tr>\n",
       "      <th>18</th>\n",
       "      <td>Day_of_the_week</td>\n",
       "      <td>0</td>\n",
       "    </tr>\n",
       "    <tr>\n",
       "      <th>19</th>\n",
       "      <td>Month_of_absence</td>\n",
       "      <td>0</td>\n",
       "    </tr>\n",
       "    <tr>\n",
       "      <th>20</th>\n",
       "      <td>Absenteeism_time_in_hours</td>\n",
       "      <td>0</td>\n",
       "    </tr>\n",
       "  </tbody>\n",
       "</table>\n",
       "</div>"
      ],
      "text/plain": [
       "                          Variables  Missing_percentage\n",
       "0                                ID                   0\n",
       "1              Disciplinary_failure                   0\n",
       "2                   Body_mass_index                   0\n",
       "3                            Height                   0\n",
       "4                            Weight                   0\n",
       "5                               Pet                   0\n",
       "6                     Social_smoker                   0\n",
       "7                    Social_drinker                   0\n",
       "8                               Son                   0\n",
       "9                         Education                   0\n",
       "10                       Hit_target                   0\n",
       "11               Reason_for_absence                   0\n",
       "12        Work_load_Average_per_day                   0\n",
       "13                              Age                   0\n",
       "14                     Service_time                   0\n",
       "15  Distance_from_Residence_to_Work                   0\n",
       "16           Transportation_expense                   0\n",
       "17                          Seasons                   0\n",
       "18                  Day_of_the_week                   0\n",
       "19                 Month_of_absence                   0\n",
       "20        Absenteeism_time_in_hours                   0"
      ]
     },
     "execution_count": 26,
     "metadata": {},
     "output_type": "execute_result"
    }
   ],
   "source": [
    "#Create dataframe with missing percentage\n",
    "missing_val = pd.DataFrame(absenteeism_data.isnull().sum())\n",
    "\n",
    "#Reset index\n",
    "missing_val = missing_val.reset_index()\n",
    "\n",
    "#Rename variable\n",
    "missing_val = missing_val.rename(columns = {'index': 'Variables', 0: 'Missing_percentage'})\n",
    "\n",
    "#descending order\n",
    "missing_val = missing_val.sort_values('Missing_percentage', ascending = False).reset_index(drop = True)\n",
    "\n",
    "#save output results \n",
    "#missing_val.to_csv(\"Absenteeism_dataset_missingvalues.csv\", index = False)\n",
    "missing_val"
   ]
  },
  {
   "cell_type": "markdown",
   "metadata": {},
   "source": [
    "## Distribution analysis"
   ]
  },
  {
   "cell_type": "markdown",
   "metadata": {},
   "source": [
    "### Using histogram for numerical variables"
   ]
  },
  {
   "cell_type": "code",
   "execution_count": 27,
   "metadata": {},
   "outputs": [
    {
     "data": {
      "text/plain": [
       "<AxesSubplot:xlabel='Transportation_expense', ylabel='Density'>"
      ]
     },
     "execution_count": 27,
     "metadata": {},
     "output_type": "execute_result"
    },
    {
     "data": {
      "image/png": "[encoded data removed]",
      "text/plain": [
       "<Figure size 432x288 with 1 Axes>"
      ]
     },
     "metadata": {
      "needs_background": "light"
     },
     "output_type": "display_data"
    }
   ],
   "source": [
    "#Transportation_expense\n",
    "sns.distplot(absenteeism_data['Transportation_expense'])"
   ]
  },
  {
   "cell_type": "code",
   "execution_count": 28,
   "metadata": {},
   "outputs": [
    {
     "data": {
      "text/plain": [
       "<AxesSubplot:xlabel='Distance_from_Residence_to_Work', ylabel='Density'>"
      ]
     },
     "execution_count": 28,
     "metadata": {},
     "output_type": "execute_result"
    },
    {
     "data": {
      "image/png": "[encoded data removed]",
      "text/plain": [
       "<Figure size 432x288 with 1 Axes>"
      ]
     },
     "metadata": {
      "needs_background": "light"
     },
     "output_type": "display_data"
    }
   ],
   "source": [
    "#Distance_from_Residence_to_Work\n",
    "sns.distplot(absenteeism_data['Distance_from_Residence_to_Work'])"
   ]
  },
  {
   "cell_type": "code",
   "execution_count": 29,
   "metadata": {},
   "outputs": [
    {
     "data": {
      "text/plain": [
       "<AxesSubplot:xlabel='Service_time', ylabel='Density'>"
      ]
     },
     "execution_count": 29,
     "metadata": {},
     "output_type": "execute_result"
    },
    {
     "data": {
      "image/png": "[encoded data removed]",
      "text/plain": [
       "<Figure size 432x288 with 1 Axes>"
      ]
     },
     "metadata": {
      "needs_background": "light"
     },
     "output_type": "display_data"
    }
   ],
   "source": [
    "#Service_time\n",
    "sns.distplot(absenteeism_data['Service_time'])"
   ]
  },
  {
   "cell_type": "code",
   "execution_count": 30,
   "metadata": {},
   "outputs": [
    {
     "data": {
      "text/plain": [
       "<AxesSubplot:xlabel='Age', ylabel='Density'>"
      ]
     },
     "execution_count": 30,
     "metadata": {},
     "output_type": "execute_result"
    },
    {
     "data": {
      "image/png": "[encoded data removed]",
      "text/plain": [
       "<Figure size 432x288 with 1 Axes>"
      ]
     },
     "metadata": {
      "needs_background": "light"
     },
     "output_type": "display_data"
    }
   ],
   "source": [
    "#Age\n",
    "sns.distplot(absenteeism_data['Age'])"
   ]
  },
  {
   "cell_type": "code",
   "execution_count": 31,
   "metadata": {},
   "outputs": [
    {
     "data": {
      "text/plain": [
       "<AxesSubplot:xlabel='Hit_target', ylabel='Density'>"
      ]
     },
     "execution_count": 31,
     "metadata": {},
     "output_type": "execute_result"
    },
    {
     "data": {
      "image/png": "[encoded data removed]",
      "text/plain": [
       "<Figure size 432x288 with 1 Axes>"
      ]
     },
     "metadata": {
      "needs_background": "light"
     },
     "output_type": "display_data"
    }
   ],
   "source": [
    "#Hit_target\n",
    "sns.distplot(absenteeism_data['Hit_target'])"
   ]
  },
  {
   "cell_type": "code",
   "execution_count": 32,
   "metadata": {},
   "outputs": [
    {
     "data": {
      "text/plain": [
       "<AxesSubplot:xlabel='Weight', ylabel='Density'>"
      ]
     },
     "execution_count": 32,
     "metadata": {},
     "output_type": "execute_result"
    },
    {
     "data": {
      "image/png": "[encoded data removed]",
      "text/plain": [
       "<Figure size 432x288 with 1 Axes>"
      ]
     },
     "metadata": {
      "needs_background": "light"
     },
     "output_type": "display_data"
    }
   ],
   "source": [
    "#Weight\n",
    "sns.distplot(absenteeism_data['Weight'])"
   ]
  },
  {
   "cell_type": "code",
   "execution_count": 33,
   "metadata": {},
   "outputs": [
    {
     "data": {
      "text/plain": [
       "<AxesSubplot:xlabel='Height', ylabel='Density'>"
      ]
     },
     "execution_count": 33,
     "metadata": {},
     "output_type": "execute_result"
    },
    {
     "data": {
      "image/png": "[encoded data removed]",
      "text/plain": [
       "<Figure size 432x288 with 1 Axes>"
      ]
     },
     "metadata": {
      "needs_background": "light"
     },
     "output_type": "display_data"
    }
   ],
   "source": [
    "#Height\n",
    "sns.distplot(absenteeism_data['Height'])"
   ]
  },
  {
   "cell_type": "code",
   "execution_count": 34,
   "metadata": {},
   "outputs": [
    {
     "data": {
      "text/plain": [
       "<AxesSubplot:xlabel='Body_mass_index', ylabel='Density'>"
      ]
     },
     "execution_count": 34,
     "metadata": {},
     "output_type": "execute_result"
    },
    {
     "data": {
      "image/png": "[encoded data removed]",
      "text/plain": [
       "<Figure size 432x288 with 1 Axes>"
      ]
     },
     "metadata": {
      "needs_background": "light"
     },
     "output_type": "display_data"
    }
   ],
   "source": [
    "#Body_mass_index\n",
    "sns.distplot(absenteeism_data['Body_mass_index'])"
   ]
  },
  {
   "cell_type": "code",
   "execution_count": 35,
   "metadata": {},
   "outputs": [
    {
     "data": {
      "text/plain": [
       "<AxesSubplot:xlabel='Work_load_Average_per_day', ylabel='Density'>"
      ]
     },
     "execution_count": 35,
     "metadata": {},
     "output_type": "execute_result"
    },
    {
     "data": {
      "image/png": "[encoded data removed]",
      "text/plain": [
       "<Figure size 432x288 with 1 Axes>"
      ]
     },
     "metadata": {
      "needs_background": "light"
     },
     "output_type": "display_data"
    }
   ],
   "source": [
    "#Work_load_Average_per_day\n",
    "sns.distplot(absenteeism_data['Work_load_Average_per_day'])"
   ]
  },
  {
   "cell_type": "code",
   "execution_count": 36,
   "metadata": {},
   "outputs": [
    {
     "data": {
      "text/plain": [
       "Text(0.5, 1.0, 'Histogram of Absenteeism time in hours')"
      ]
     },
     "execution_count": 36,
     "metadata": {},
     "output_type": "execute_result"
    },
    {
     "data": {
      "image/png": "[encoded data removed]",
      "text/plain": [
       "<Figure size 432x288 with 1 Axes>"
      ]
     },
     "metadata": {
      "needs_background": "light"
     },
     "output_type": "display_data"
    }
   ],
   "source": [
    "#Note:The warnings created by distplot are suppressed. \n",
    "#Matplotlib can also be used to plot histograms instead of sns.distplot\n",
    "plt.hist(absenteeism_data['Absenteeism_time_in_hours'],bins = 20)\n",
    "plt.xlabel(\"Absenteeism_time_in_hours\")\n",
    "plt.ylabel(\"Frequency\")\n",
    "plt.title(\"Histogram of Absenteeism time in hours\")"
   ]
  },
  {
   "cell_type": "markdown",
   "metadata": {},
   "source": [
    "### Using barplot(heatmap) for categorical variables"
   ]
  },
  {
   "cell_type": "code",
   "execution_count": 37,
   "metadata": {},
   "outputs": [
    {
     "data": {
      "text/plain": [
       "<AxesSubplot:xlabel='ID', ylabel='count'>"
      ]
     },
     "execution_count": 37,
     "metadata": {},
     "output_type": "execute_result"
    },
    {
     "data": {
      "image/png": "[encoded data removed]",
      "text/plain": [
       "<Figure size 432x288 with 1 Axes>"
      ]
     },
     "metadata": {
      "needs_background": "light"
     },
     "output_type": "display_data"
    }
   ],
   "source": [
    "#ID\n",
    "sns.countplot(absenteeism_data[\"ID\"])"
   ]
  },
  {
   "cell_type": "code",
   "execution_count": 38,
   "metadata": {},
   "outputs": [
    {
     "data": {
      "text/plain": [
       "<AxesSubplot:xlabel='Reason_for_absence', ylabel='count'>"
      ]
     },
     "execution_count": 38,
     "metadata": {},
     "output_type": "execute_result"
    },
    {
     "data": {
      "image/png": "[encoded data removed]",
      "text/plain": [
       "<Figure size 432x288 with 1 Axes>"
      ]
     },
     "metadata": {
      "needs_background": "light"
     },
     "output_type": "display_data"
    }
   ],
   "source": [
    "#Reason_for_absence\n",
    "sns.countplot(absenteeism_data[\"Reason_for_absence\"])"
   ]
  },
  {
   "cell_type": "code",
   "execution_count": 39,
   "metadata": {},
   "outputs": [
    {
     "data": {
      "text/plain": [
       "<AxesSubplot:xlabel='Month_of_absence', ylabel='count'>"
      ]
     },
     "execution_count": 39,
     "metadata": {},
     "output_type": "execute_result"
    },
    {
     "data": {
      "image/png": "[encoded data removed]",
      "text/plain": [
       "<Figure size 432x288 with 1 Axes>"
      ]
     },
     "metadata": {
      "needs_background": "light"
     },
     "output_type": "display_data"
    }
   ],
   "source": [
    "#Month_of_absence\n",
    "sns.countplot(absenteeism_data[\"Month_of_absence\"])"
   ]
  },
  {
   "cell_type": "code",
   "execution_count": 40,
   "metadata": {},
   "outputs": [
    {
     "data": {
      "text/plain": [
       "<AxesSubplot:xlabel='Day_of_the_week', ylabel='count'>"
      ]
     },
     "execution_count": 40,
     "metadata": {},
     "output_type": "execute_result"
    },
    {
     "data": {
      "image/png": "[encoded data removed]",
      "text/plain": [
       "<Figure size 432x288 with 1 Axes>"
      ]
     },
     "metadata": {
      "needs_background": "light"
     },
     "output_type": "display_data"
    }
   ],
   "source": [
    "#Day_of_the_week\n",
    "sns.countplot(absenteeism_data[\"Day_of_the_week\"])"
   ]
  },
  {
   "cell_type": "code",
   "execution_count": 41,
   "metadata": {},
   "outputs": [
    {
     "data": {
      "text/plain": [
       "<AxesSubplot:xlabel='Seasons', ylabel='count'>"
      ]
     },
     "execution_count": 41,
     "metadata": {},
     "output_type": "execute_result"
    },
    {
     "data": {
      "image/png": "[encoded data removed]",
      "text/plain": [
       "<Figure size 432x288 with 1 Axes>"
      ]
     },
     "metadata": {
      "needs_background": "light"
     },
     "output_type": "display_data"
    }
   ],
   "source": [
    "#Seasons\n",
    "sns.countplot(absenteeism_data[\"Seasons\"])"
   ]
  },
  {
   "cell_type": "code",
   "execution_count": 42,
   "metadata": {},
   "outputs": [
    {
     "data": {
      "text/plain": [
       "<AxesSubplot:xlabel='Disciplinary_failure', ylabel='count'>"
      ]
     },
     "execution_count": 42,
     "metadata": {},
     "output_type": "execute_result"
    },
    {
     "data": {
      "image/png": "[encoded data removed]",
      "text/plain": [
       "<Figure size 432x288 with 1 Axes>"
      ]
     },
     "metadata": {
      "needs_background": "light"
     },
     "output_type": "display_data"
    }
   ],
   "source": [
    "#Disciplinary_failure\n",
    "sns.countplot(absenteeism_data[\"Disciplinary_failure\"])"
   ]
  },
  {
   "cell_type": "code",
   "execution_count": 43,
   "metadata": {},
   "outputs": [
    {
     "data": {
      "text/plain": [
       "<AxesSubplot:xlabel='Education', ylabel='count'>"
      ]
     },
     "execution_count": 43,
     "metadata": {},
     "output_type": "execute_result"
    },
    {
     "data": {
      "image/png": "[encoded data removed]",
      "text/plain": [
       "<Figure size 432x288 with 1 Axes>"
      ]
     },
     "metadata": {
      "needs_background": "light"
     },
     "output_type": "display_data"
    }
   ],
   "source": [
    "#Education\n",
    "sns.countplot(absenteeism_data[\"Education\"])"
   ]
  },
  {
   "cell_type": "code",
   "execution_count": 44,
   "metadata": {},
   "outputs": [
    {
     "data": {
      "text/plain": [
       "<AxesSubplot:xlabel='Son', ylabel='count'>"
      ]
     },
     "execution_count": 44,
     "metadata": {},
     "output_type": "execute_result"
    },
    {
     "data": {
      "image/png": "[encoded data removed]",
      "text/plain": [
       "<Figure size 432x288 with 1 Axes>"
      ]
     },
     "metadata": {
      "needs_background": "light"
     },
     "output_type": "display_data"
    }
   ],
   "source": [
    "#Son\n",
    "sns.countplot(absenteeism_data[\"Son\"])"
   ]
  },
  {
   "cell_type": "code",
   "execution_count": 45,
   "metadata": {},
   "outputs": [
    {
     "data": {
      "text/plain": [
       "<AxesSubplot:xlabel='Social_drinker', ylabel='count'>"
      ]
     },
     "execution_count": 45,
     "metadata": {},
     "output_type": "execute_result"
    },
    {
     "data": {
      "image/png": "[encoded data removed]",
      "text/plain": [
       "<Figure size 432x288 with 1 Axes>"
      ]
     },
     "metadata": {
      "needs_background": "light"
     },
     "output_type": "display_data"
    }
   ],
   "source": [
    "#Social_drinker\n",
    "sns.countplot(absenteeism_data[\"Social_drinker\"])"
   ]
  },
  {
   "cell_type": "code",
   "execution_count": 46,
   "metadata": {
    "scrolled": true
   },
   "outputs": [
    {
     "data": {
      "text/plain": [
       "<AxesSubplot:xlabel='Social_smoker', ylabel='count'>"
      ]
     },
     "execution_count": 46,
     "metadata": {},
     "output_type": "execute_result"
    },
    {
     "data": {
      "image/png": "[encoded data removed]",
      "text/plain": [
       "<Figure size 432x288 with 1 Axes>"
      ]
     },
     "metadata": {
      "needs_background": "light"
     },
     "output_type": "display_data"
    }
   ],
   "source": [
    "#Social_smoker\n",
    "sns.countplot(absenteeism_data[\"Social_smoker\"])"
   ]
  },
  {
   "cell_type": "code",
   "execution_count": 47,
   "metadata": {},
   "outputs": [
    {
     "data": {
      "text/plain": [
       "<AxesSubplot:xlabel='Pet', ylabel='count'>"
      ]
     },
     "execution_count": 47,
     "metadata": {},
     "output_type": "execute_result"
    },
    {
     "data": {
      "image/png": "[encoded data removed]",
      "text/plain": [
       "<Figure size 432x288 with 1 Axes>"
      ]
     },
     "metadata": {
      "needs_background": "light"
     },
     "output_type": "display_data"
    }
   ],
   "source": [
    "#ID\n",
    "sns.countplot(absenteeism_data[\"Pet\"])"
   ]
  },
  {
   "cell_type": "markdown",
   "metadata": {},
   "source": [
    "## Outlier Analysis"
   ]
  },
  {
   "cell_type": "code",
   "execution_count": 48,
   "metadata": {},
   "outputs": [],
   "source": [
    "#Storing all column names\n",
    "variables_list = [\"Transportation_expense\",\"Distance_from_Residence_to_Work\",\"Service_time\",\"Age\",\"Hit_target\",\"Weight\",\"Height\",\"Body_mass_index\",\"ID\",\"Reason_for_absence\",\"Month_of_absence\",\"Day_of_the_week\",\"Seasons\",\"Disciplinary_failure\",\"Education\",\"Son\",\"Social_drinker\",\"Social_smoker\",\"Pet\"]\n",
    "#\"Work_load_Average_day\",\n",
    "#sns.boxplot(absenteeism_data[Transportation_expense],absenteeism_data['Absenteeism_time_in_hours'])  "
   ]
  },
  {
   "cell_type": "code",
   "execution_count": 49,
   "metadata": {},
   "outputs": [
    {
     "data": {
      "image/png": "[encoded data removed]",
      "text/plain": [
       "<Figure size 432x288 with 1 Axes>"
      ]
     },
     "metadata": {
      "needs_background": "light"
     },
     "output_type": "display_data"
    },
    {
     "data": {
      "image/png": "[encoded data removed]",
      "text/plain": [
       "<Figure size 432x288 with 1 Axes>"
      ]
     },
     "metadata": {
      "needs_background": "light"
     },
     "output_type": "display_data"
    },
    {
     "data": {
      "image/png": "[encoded data removed]",
      "text/plain": [
       "<Figure size 432x288 with 1 Axes>"
      ]
     },
     "metadata": {
      "needs_background": "light"
     },
     "output_type": "display_data"
    },
    {
     "data": {
      "image/png": "[encoded data removed]",
      "text/plain": [
       "<Figure size 432x288 with 1 Axes>"
      ]
     },
     "metadata": {
      "needs_background": "light"
     },
     "output_type": "display_data"
    },
    {
     "data": {
      "image/png": "[encoded data removed]",
      "text/plain": [
       "<Figure size 432x288 with 1 Axes>"
      ]
     },
     "metadata": {
      "needs_background": "light"
     },
     "output_type": "display_data"
    },
    {
     "data": {
      "image/png": "[encoded data removed]",
      "text/plain": [
       "<Figure size 432x288 with 1 Axes>"
      ]
     },
     "metadata": {
      "needs_background": "light"
     },
     "output_type": "display_data"
    },
    {
     "data": {
      "image/png": "[encoded data removed]",
      "text/plain": [
       "<Figure size 432x288 with 1 Axes>"
      ]
     },
     "metadata": {
      "needs_background": "light"
     },
     "output_type": "display_data"
    },
    {
     "data": {
      "image/png": "[encoded data removed]",
      "text/plain": [
       "<Figure size 432x288 with 1 Axes>"
      ]
     },
     "metadata": {
      "needs_background": "light"
     },
     "output_type": "display_data"
    },
    {
     "data": {
      "image/png": "[encoded data removed]",
      "text/plain": [
       "<Figure size 432x288 with 1 Axes>"
      ]
     },
     "metadata": {
      "needs_background": "light"
     },
     "output_type": "display_data"
    },
    {
     "data": {
      "image/png": "[encoded data removed]",
      "text/plain": [
       "<Figure size 432x288 with 1 Axes>"
      ]
     },
     "metadata": {
      "needs_background": "light"
     },
     "output_type": "display_data"
    },
    {
     "data": {
      "image/png": "[encoded data removed]",
      "text/plain": [
       "<Figure size 432x288 with 1 Axes>"
      ]
     },
     "metadata": {
      "needs_background": "light"
     },
     "output_type": "display_data"
    },
    {
     "data": {
      "image/png": "[encoded data removed]",
      "text/plain": [
       "<Figure size 432x288 with 1 Axes>"
      ]
     },
     "metadata": {
      "needs_background": "light"
     },
     "output_type": "display_data"
    },
    {
     "data": {
      "image/png": "[encoded data removed]",
      "text/plain": [
       "<Figure size 432x288 with 1 Axes>"
      ]
     },
     "metadata": {
      "needs_background": "light"
     },
     "output_type": "display_data"
    },
    {
     "data": {
      "image/png": "[encoded data removed]",
      "text/plain": [
       "<Figure size 432x288 with 1 Axes>"
      ]
     },
     "metadata": {
      "needs_background": "light"
     },
     "output_type": "display_data"
    },
    {
     "data": {
      "image/png": "[encoded data removed]",
      "text/plain": [
       "<Figure size 432x288 with 1 Axes>"
      ]
     },
     "metadata": {
      "needs_background": "light"
     },
     "output_type": "display_data"
    },
    {
     "data": {
      "image/png": "[encoded data removed]",
      "text/plain": [
       "<Figure size 432x288 with 1 Axes>"
      ]
     },
     "metadata": {
      "needs_background": "light"
     },
     "output_type": "display_data"
    },
    {
     "data": {
      "image/png": "[encoded data removed]",
      "text/plain": [
       "<Figure size 432x288 with 1 Axes>"
      ]
     },
     "metadata": {
      "needs_background": "light"
     },
     "output_type": "display_data"
    },
    {
     "data": {
      "image/png": "[encoded data removed]",
      "text/plain": [
       "<Figure size 432x288 with 1 Axes>"
      ]
     },
     "metadata": {
      "needs_background": "light"
     },
     "output_type": "display_data"
    },
    {
     "data": {
      "image/png": "[encoded data removed]",
      "text/plain": [
       "<Figure size 432x288 with 1 Axes>"
      ]
     },
     "metadata": {
      "needs_background": "light"
     },
     "output_type": "display_data"
    }
   ],
   "source": [
    "#plotting boxplot for all the predictors with outliers\n",
    "for var in variables_list:\n",
    "    plt.figure()\n",
    "    plt.clf() #clearing the figure\n",
    "    sns.boxplot(absenteeism_data[var],absenteeism_data['Absenteeism_time_in_hours'])\n",
    "    plt.title(var)\n",
    "    plt.show()"
   ]
  },
  {
   "cell_type": "code",
   "execution_count": 50,
   "metadata": {},
   "outputs": [
    {
     "name": "stdout",
     "output_type": "stream",
     "text": [
      "Transportation_expense : 3 Outliers\n",
      "Distance_from_Residence_to_Work : 0 Outliers\n",
      "Service_time : 5 Outliers\n",
      "Age : 8 Outliers\n",
      "Work_load_Average_per_day : 0 Outliers\n",
      "Hit_target : 19 Outliers\n",
      "Weight : 0 Outliers\n",
      "Height : 119 Outliers\n",
      "Body_mass_index : 0 Outliers\n",
      "Absenteeism_time_in_hours : 43 Outliers\n"
     ]
    }
   ],
   "source": [
    "for i in numeric_variables_list:\n",
    "    #print(i)\n",
    "    q75, q25 = np.percentile(absenteeism_data.loc[:,i], [75,25])\n",
    "    iqr = q75 - q25\n",
    "    minimum = q25 - (iqr*1.5)\n",
    "    maximum = q75 + (iqr*1.5)\n",
    "    #print(minimum)\n",
    "    #print(maximum)\n",
    "    \n",
    "    print('{var} : {X} Outliers'.format(var = i, X = (absenteeism_data.loc[absenteeism_data.loc[:,i] < minimum,i].count() + absenteeism_data.loc[absenteeism_data.loc[:,i] > maximum,i].count())))  \n",
    "    #Imputing outliers with minimum and maximum values\n",
    "    absenteeism_data.loc[absenteeism_data[i] < minimum,i] = np.nan\n",
    "    absenteeism_data.loc[absenteeism_data[i] > maximum,i] = np.nan\n",
    "    "
   ]
  },
  {
   "cell_type": "code",
   "execution_count": 51,
   "metadata": {},
   "outputs": [
    {
     "data": {
      "text/html": [
       "<div>\n",
       "<style scoped>\n",
       "    .dataframe tbody tr th:only-of-type {\n",
       "        vertical-align: middle;\n",
       "    }\n",
       "\n",
       "    .dataframe tbody tr th {\n",
       "        vertical-align: top;\n",
       "    }\n",
       "\n",
       "    .dataframe thead th {\n",
       "        text-align: right;\n",
       "    }\n",
       "</style>\n",
       "<table border=\"1\" class=\"dataframe\">\n",
       "  <thead>\n",
       "    <tr style=\"text-align: right;\">\n",
       "      <th></th>\n",
       "      <th>0</th>\n",
       "    </tr>\n",
       "  </thead>\n",
       "  <tbody>\n",
       "    <tr>\n",
       "      <th>ID</th>\n",
       "      <td>0</td>\n",
       "    </tr>\n",
       "    <tr>\n",
       "      <th>Reason_for_absence</th>\n",
       "      <td>0</td>\n",
       "    </tr>\n",
       "    <tr>\n",
       "      <th>Month_of_absence</th>\n",
       "      <td>0</td>\n",
       "    </tr>\n",
       "    <tr>\n",
       "      <th>Day_of_the_week</th>\n",
       "      <td>0</td>\n",
       "    </tr>\n",
       "    <tr>\n",
       "      <th>Seasons</th>\n",
       "      <td>0</td>\n",
       "    </tr>\n",
       "    <tr>\n",
       "      <th>Transportation_expense</th>\n",
       "      <td>3</td>\n",
       "    </tr>\n",
       "    <tr>\n",
       "      <th>Distance_from_Residence_to_Work</th>\n",
       "      <td>0</td>\n",
       "    </tr>\n",
       "    <tr>\n",
       "      <th>Service_time</th>\n",
       "      <td>5</td>\n",
       "    </tr>\n",
       "    <tr>\n",
       "      <th>Age</th>\n",
       "      <td>8</td>\n",
       "    </tr>\n",
       "    <tr>\n",
       "      <th>Work_load_Average_per_day</th>\n",
       "      <td>0</td>\n",
       "    </tr>\n",
       "    <tr>\n",
       "      <th>Hit_target</th>\n",
       "      <td>19</td>\n",
       "    </tr>\n",
       "    <tr>\n",
       "      <th>Disciplinary_failure</th>\n",
       "      <td>0</td>\n",
       "    </tr>\n",
       "    <tr>\n",
       "      <th>Education</th>\n",
       "      <td>0</td>\n",
       "    </tr>\n",
       "    <tr>\n",
       "      <th>Son</th>\n",
       "      <td>0</td>\n",
       "    </tr>\n",
       "    <tr>\n",
       "      <th>Social_drinker</th>\n",
       "      <td>0</td>\n",
       "    </tr>\n",
       "    <tr>\n",
       "      <th>Social_smoker</th>\n",
       "      <td>0</td>\n",
       "    </tr>\n",
       "    <tr>\n",
       "      <th>Pet</th>\n",
       "      <td>0</td>\n",
       "    </tr>\n",
       "    <tr>\n",
       "      <th>Weight</th>\n",
       "      <td>0</td>\n",
       "    </tr>\n",
       "    <tr>\n",
       "      <th>Height</th>\n",
       "      <td>119</td>\n",
       "    </tr>\n",
       "    <tr>\n",
       "      <th>Body_mass_index</th>\n",
       "      <td>0</td>\n",
       "    </tr>\n",
       "    <tr>\n",
       "      <th>Absenteeism_time_in_hours</th>\n",
       "      <td>43</td>\n",
       "    </tr>\n",
       "  </tbody>\n",
       "</table>\n",
       "</div>"
      ],
      "text/plain": [
       "                                   0\n",
       "ID                                 0\n",
       "Reason_for_absence                 0\n",
       "Month_of_absence                   0\n",
       "Day_of_the_week                    0\n",
       "Seasons                            0\n",
       "Transportation_expense             3\n",
       "Distance_from_Residence_to_Work    0\n",
       "Service_time                       5\n",
       "Age                                8\n",
       "Work_load_Average_per_day          0\n",
       "Hit_target                        19\n",
       "Disciplinary_failure               0\n",
       "Education                          0\n",
       "Son                                0\n",
       "Social_drinker                     0\n",
       "Social_smoker                      0\n",
       "Pet                                0\n",
       "Weight                             0\n",
       "Height                           119\n",
       "Body_mass_index                    0\n",
       "Absenteeism_time_in_hours         43"
      ]
     },
     "execution_count": 51,
     "metadata": {},
     "output_type": "execute_result"
    }
   ],
   "source": [
    "pd.DataFrame(absenteeism_data.isnull().sum())"
   ]
  },
  {
   "cell_type": "markdown",
   "metadata": {},
   "source": [
    "### Imputing values"
   ]
  },
  {
   "cell_type": "code",
   "execution_count": 52,
   "metadata": {},
   "outputs": [],
   "source": [
    "#defining impute_variables:\n",
    "def impute_variables(data_set):\n",
    "    for i in data_set.columns.values:\n",
    "        if data_set.loc[:,i].dtypes.name == 'int64'or data_set.loc[:,i].dtypes.name == 'float64':\n",
    "            data_set[i] = data_set[i].fillna(data_set[i].median())\n",
    "\n",
    "        ## mode method for categorical features\n",
    "        elif data_set.loc[:,i].dtypes.name == 'category':\n",
    "            data_set[i] = data_set[i].fillna(statistics.mode(data_set[i]))\n",
    "    return data_set"
   ]
  },
  {
   "cell_type": "code",
   "execution_count": 53,
   "metadata": {},
   "outputs": [],
   "source": [
    "#impute NaN with median value for numerical and mode for categorical data\n",
    "absenteeism_data = impute_variables(absenteeism_data)"
   ]
  },
  {
   "cell_type": "code",
   "execution_count": 54,
   "metadata": {},
   "outputs": [
    {
     "data": {
      "text/plain": [
       "0"
      ]
     },
     "execution_count": 54,
     "metadata": {},
     "output_type": "execute_result"
    }
   ],
   "source": [
    "#Checking number of missing values\n",
    "absenteeism_data.isnull().sum().sum()"
   ]
  },
  {
   "cell_type": "markdown",
   "metadata": {},
   "source": [
    "## Feature Selection"
   ]
  },
  {
   "cell_type": "markdown",
   "metadata": {},
   "source": [
    "### Using Correlation matrix and VIF technique for numerical data"
   ]
  },
  {
   "cell_type": "code",
   "execution_count": 55,
   "metadata": {},
   "outputs": [],
   "source": [
    "##Correlation analysis\n",
    "#Correlation plot\n",
    "corr_matrix = absenteeism_data.loc[:,numeric_variables_list]"
   ]
  },
  {
   "cell_type": "code",
   "execution_count": 56,
   "metadata": {},
   "outputs": [
    {
     "data": {
      "text/plain": [
       "<AxesSubplot:>"
      ]
     },
     "execution_count": 56,
     "metadata": {},
     "output_type": "execute_result"
    },
    {
     "data": {
      "image/png": "[encoded data removed]",
      "text/plain": [
       "<Figure size 504x360 with 2 Axes>"
      ]
     },
     "metadata": {
      "needs_background": "light"
     },
     "output_type": "display_data"
    }
   ],
   "source": [
    "#Setting the width and height of the plot\n",
    "f, ax = plt.subplots(figsize=(7, 5))\n",
    "\n",
    "#Generate correlation matrix\n",
    "corr = corr_matrix.corr()\n",
    "\n",
    "#Plot using seaborn library\n",
    "sns.heatmap(corr, mask=np.zeros_like(corr, dtype=np.bool), cmap=sns.diverging_palette(220, 10, as_cmap=True),\n",
    "            square=True, ax=ax)"
   ]
  },
  {
   "cell_type": "code",
   "execution_count": 57,
   "metadata": {},
   "outputs": [
    {
     "data": {
      "text/html": [
       "<div>\n",
       "<style scoped>\n",
       "    .dataframe tbody tr th:only-of-type {\n",
       "        vertical-align: middle;\n",
       "    }\n",
       "\n",
       "    .dataframe tbody tr th {\n",
       "        vertical-align: top;\n",
       "    }\n",
       "\n",
       "    .dataframe thead th {\n",
       "        text-align: right;\n",
       "    }\n",
       "</style>\n",
       "<table border=\"1\" class=\"dataframe\">\n",
       "  <thead>\n",
       "    <tr style=\"text-align: right;\">\n",
       "      <th></th>\n",
       "      <th>Transportation_expense</th>\n",
       "      <th>Distance_from_Residence_to_Work</th>\n",
       "      <th>Service_time</th>\n",
       "      <th>Age</th>\n",
       "      <th>Work_load_Average_per_day</th>\n",
       "      <th>Hit_target</th>\n",
       "      <th>Weight</th>\n",
       "      <th>Height</th>\n",
       "      <th>Body_mass_index</th>\n",
       "      <th>Absenteeism_time_in_hours</th>\n",
       "    </tr>\n",
       "  </thead>\n",
       "  <tbody>\n",
       "    <tr>\n",
       "      <th>Transportation_expense</th>\n",
       "      <td>1.000000</td>\n",
       "      <td>0.275428</td>\n",
       "      <td>-0.390977</td>\n",
       "      <td>-0.272291</td>\n",
       "      <td>-0.012572</td>\n",
       "      <td>-0.083550</td>\n",
       "      <td>-0.207745</td>\n",
       "      <td>-0.005938</td>\n",
       "      <td>-0.132020</td>\n",
       "      <td>0.183180</td>\n",
       "    </tr>\n",
       "    <tr>\n",
       "      <th>Distance_from_Residence_to_Work</th>\n",
       "      <td>0.275428</td>\n",
       "      <td>1.000000</td>\n",
       "      <td>0.106384</td>\n",
       "      <td>-0.116169</td>\n",
       "      <td>-0.086438</td>\n",
       "      <td>0.030338</td>\n",
       "      <td>-0.047859</td>\n",
       "      <td>-0.068603</td>\n",
       "      <td>0.113772</td>\n",
       "      <td>-0.000449</td>\n",
       "    </tr>\n",
       "    <tr>\n",
       "      <th>Service_time</th>\n",
       "      <td>-0.390977</td>\n",
       "      <td>0.106384</td>\n",
       "      <td>1.000000</td>\n",
       "      <td>0.667026</td>\n",
       "      <td>-0.042846</td>\n",
       "      <td>0.069463</td>\n",
       "      <td>0.421130</td>\n",
       "      <td>-0.069120</td>\n",
       "      <td>0.469020</td>\n",
       "      <td>-0.075805</td>\n",
       "    </tr>\n",
       "    <tr>\n",
       "      <th>Age</th>\n",
       "      <td>-0.272291</td>\n",
       "      <td>-0.116169</td>\n",
       "      <td>0.667026</td>\n",
       "      <td>1.000000</td>\n",
       "      <td>-0.032426</td>\n",
       "      <td>-0.001335</td>\n",
       "      <td>0.487374</td>\n",
       "      <td>-0.114714</td>\n",
       "      <td>0.542863</td>\n",
       "      <td>-0.084535</td>\n",
       "    </tr>\n",
       "    <tr>\n",
       "      <th>Work_load_Average_per_day</th>\n",
       "      <td>-0.012572</td>\n",
       "      <td>-0.086438</td>\n",
       "      <td>-0.042846</td>\n",
       "      <td>-0.032426</td>\n",
       "      <td>1.000000</td>\n",
       "      <td>-0.060008</td>\n",
       "      <td>-0.041620</td>\n",
       "      <td>-0.022100</td>\n",
       "      <td>-0.082726</td>\n",
       "      <td>0.025548</td>\n",
       "    </tr>\n",
       "    <tr>\n",
       "      <th>Hit_target</th>\n",
       "      <td>-0.083550</td>\n",
       "      <td>0.030338</td>\n",
       "      <td>0.069463</td>\n",
       "      <td>-0.001335</td>\n",
       "      <td>-0.060008</td>\n",
       "      <td>1.000000</td>\n",
       "      <td>-0.004726</td>\n",
       "      <td>0.010069</td>\n",
       "      <td>-0.036785</td>\n",
       "      <td>0.014684</td>\n",
       "    </tr>\n",
       "    <tr>\n",
       "      <th>Weight</th>\n",
       "      <td>-0.207745</td>\n",
       "      <td>-0.047859</td>\n",
       "      <td>0.421130</td>\n",
       "      <td>0.487374</td>\n",
       "      <td>-0.041620</td>\n",
       "      <td>-0.004726</td>\n",
       "      <td>1.000000</td>\n",
       "      <td>0.034853</td>\n",
       "      <td>0.904117</td>\n",
       "      <td>-0.007576</td>\n",
       "    </tr>\n",
       "    <tr>\n",
       "      <th>Height</th>\n",
       "      <td>-0.005938</td>\n",
       "      <td>-0.068603</td>\n",
       "      <td>-0.069120</td>\n",
       "      <td>-0.114714</td>\n",
       "      <td>-0.022100</td>\n",
       "      <td>0.010069</td>\n",
       "      <td>0.034853</td>\n",
       "      <td>1.000000</td>\n",
       "      <td>-0.118993</td>\n",
       "      <td>0.037764</td>\n",
       "    </tr>\n",
       "    <tr>\n",
       "      <th>Body_mass_index</th>\n",
       "      <td>-0.132020</td>\n",
       "      <td>0.113772</td>\n",
       "      <td>0.469020</td>\n",
       "      <td>0.542863</td>\n",
       "      <td>-0.082726</td>\n",
       "      <td>-0.036785</td>\n",
       "      <td>0.904117</td>\n",
       "      <td>-0.118993</td>\n",
       "      <td>1.000000</td>\n",
       "      <td>-0.031638</td>\n",
       "    </tr>\n",
       "    <tr>\n",
       "      <th>Absenteeism_time_in_hours</th>\n",
       "      <td>0.183180</td>\n",
       "      <td>-0.000449</td>\n",
       "      <td>-0.075805</td>\n",
       "      <td>-0.084535</td>\n",
       "      <td>0.025548</td>\n",
       "      <td>0.014684</td>\n",
       "      <td>-0.007576</td>\n",
       "      <td>0.037764</td>\n",
       "      <td>-0.031638</td>\n",
       "      <td>1.000000</td>\n",
       "    </tr>\n",
       "  </tbody>\n",
       "</table>\n",
       "</div>"
      ],
      "text/plain": [
       "                                 Transportation_expense  \\\n",
       "Transportation_expense                         1.000000   \n",
       "Distance_from_Residence_to_Work                0.275428   \n",
       "Service_time                                  -0.390977   \n",
       "Age                                           -0.272291   \n",
       "Work_load_Average_per_day                     -0.012572   \n",
       "Hit_target                                    -0.083550   \n",
       "Weight                                        -0.207745   \n",
       "Height                                        -0.005938   \n",
       "Body_mass_index                               -0.132020   \n",
       "Absenteeism_time_in_hours                      0.183180   \n",
       "\n",
       "                                 Distance_from_Residence_to_Work  \\\n",
       "Transportation_expense                                  0.275428   \n",
       "Distance_from_Residence_to_Work                         1.000000   \n",
       "Service_time                                            0.106384   \n",
       "Age                                                    -0.116169   \n",
       "Work_load_Average_per_day                              -0.086438   \n",
       "Hit_target                                              0.030338   \n",
       "Weight                                                 -0.047859   \n",
       "Height                                                 -0.068603   \n",
       "Body_mass_index                                         0.113772   \n",
       "Absenteeism_time_in_hours                              -0.000449   \n",
       "\n",
       "                                 Service_time       Age  \\\n",
       "Transportation_expense              -0.390977 -0.272291   \n",
       "Distance_from_Residence_to_Work      0.106384 -0.116169   \n",
       "Service_time                         1.000000  0.667026   \n",
       "Age                                  0.667026  1.000000   \n",
       "Work_load_Average_per_day           -0.042846 -0.032426   \n",
       "Hit_target                           0.069463 -0.001335   \n",
       "Weight                               0.421130  0.487374   \n",
       "Height                              -0.069120 -0.114714   \n",
       "Body_mass_index                      0.469020  0.542863   \n",
       "Absenteeism_time_in_hours           -0.075805 -0.084535   \n",
       "\n",
       "                                 Work_load_Average_per_day  Hit_target  \\\n",
       "Transportation_expense                           -0.012572   -0.083550   \n",
       "Distance_from_Residence_to_Work                  -0.086438    0.030338   \n",
       "Service_time                                     -0.042846    0.069463   \n",
       "Age                                              -0.032426   -0.001335   \n",
       "Work_load_Average_per_day                         1.000000   -0.060008   \n",
       "Hit_target                                       -0.060008    1.000000   \n",
       "Weight                                           -0.041620   -0.004726   \n",
       "Height                                           -0.022100    0.010069   \n",
       "Body_mass_index                                  -0.082726   -0.036785   \n",
       "Absenteeism_time_in_hours                         0.025548    0.014684   \n",
       "\n",
       "                                   Weight    Height  Body_mass_index  \\\n",
       "Transportation_expense          -0.207745 -0.005938        -0.132020   \n",
       "Distance_from_Residence_to_Work -0.047859 -0.068603         0.113772   \n",
       "Service_time                     0.421130 -0.069120         0.469020   \n",
       "Age                              0.487374 -0.114714         0.542863   \n",
       "Work_load_Average_per_day       -0.041620 -0.022100        -0.082726   \n",
       "Hit_target                      -0.004726  0.010069        -0.036785   \n",
       "Weight                           1.000000  0.034853         0.904117   \n",
       "Height                           0.034853  1.000000        -0.118993   \n",
       "Body_mass_index                  0.904117 -0.118993         1.000000   \n",
       "Absenteeism_time_in_hours       -0.007576  0.037764        -0.031638   \n",
       "\n",
       "                                 Absenteeism_time_in_hours  \n",
       "Transportation_expense                            0.183180  \n",
       "Distance_from_Residence_to_Work                  -0.000449  \n",
       "Service_time                                     -0.075805  \n",
       "Age                                              -0.084535  \n",
       "Work_load_Average_per_day                         0.025548  \n",
       "Hit_target                                        0.014684  \n",
       "Weight                                           -0.007576  \n",
       "Height                                            0.037764  \n",
       "Body_mass_index                                  -0.031638  \n",
       "Absenteeism_time_in_hours                         1.000000  "
      ]
     },
     "execution_count": 57,
     "metadata": {},
     "output_type": "execute_result"
    }
   ],
   "source": [
    "absenteeism_data[numeric_variables_list].corr()\n",
    "#It is infered that variables weight and body mass index are highly correlated. Hence one of it can be omitted"
   ]
  },
  {
   "cell_type": "code",
   "execution_count": 58,
   "metadata": {},
   "outputs": [
    {
     "data": {
      "text/plain": [
       "Transportation_expense                 1.424041\n",
       "Distance_from_Residence_to_Work        1.429705\n",
       "Service_time                           2.292453\n",
       "Age                                    2.306365\n",
       "Work_load_Average_per_day              1.024650\n",
       "Hit_target                             1.029171\n",
       "Weight                                 7.371346\n",
       "Height                                 1.157707\n",
       "Body_mass_index                        8.252827\n",
       "Absenteeism_time_in_hours              1.048683\n",
       "const                              12516.065665\n",
       "dtype: float64"
      ]
     },
     "execution_count": 58,
     "metadata": {},
     "output_type": "execute_result"
    }
   ],
   "source": [
    "#VIF\n",
    "VIF_df = absenteeism_data[numeric_variables_list].assign(const = 1)\n",
    "pd.Series([variance_inflation_factor(VIF_df.values,i) for i in range(VIF_df.shape[1])],index=VIF_df.columns)\n",
    "#From correlation matrix and VIF analysis it is infered that variables weight and body mass index are highly correlated. Hence one of it can be omitted.We will be omitting weight"
   ]
  },
  {
   "cell_type": "markdown",
   "metadata": {},
   "source": [
    "### Using ANOVA technique for categorical data"
   ]
  },
  {
   "cell_type": "code",
   "execution_count": 59,
   "metadata": {},
   "outputs": [
    {
     "name": "stdout",
     "output_type": "stream",
     "text": [
      "ID\n",
      "F_onewayResult(statistic=1046.84059570791, pvalue=4.428940518145323e-174)\n",
      "Reason_for_absence\n",
      "F_onewayResult(statistic=3252.598691961359, pvalue=0.0)\n",
      "Month_of_absence\n",
      "F_onewayResult(statistic=130.60513133889617, pvalue=4.811469772568523e-29)\n",
      "Day_of_the_week\n",
      "F_onewayResult(statistic=8.790490943738725, pvalue=0.0030765757200355574)\n",
      "Seasons\n",
      "F_onewayResult(statistic=184.50092252932188, pvalue=1.0925911694626689e-39)\n",
      "Disciplinary_failure\n",
      "F_onewayResult(statistic=1182.937758420434, pvalue=6.045767744318007e-191)\n",
      "Education\n",
      "F_onewayResult(statistic=574.42081814584, pvalue=1.649394908824148e-107)\n",
      "Son\n",
      "F_onewayResult(statistic=641.7926847908078, pvalue=6.829638928484887e-118)\n",
      "Social_drinker\n",
      "F_onewayResult(statistic=898.7769490791635, pvalue=1.1525923573593214e-154)\n",
      "Social_smoker\n",
      "F_onewayResult(statistic=1169.878208775719, pvalue=2.300481866993278e-189)\n",
      "Pet\n",
      "F_onewayResult(statistic=721.9258282157014, pvalue=8.095704928790522e-130)\n"
     ]
    }
   ],
   "source": [
    "for i in categorical_pred_variable_list:\n",
    "    print(i) \n",
    "    print(stats.f_oneway(absenteeism_data[i],absenteeism_data['Absenteeism_time_in_hours']))"
   ]
  },
  {
   "cell_type": "markdown",
   "metadata": {},
   "source": [
    "### Dimentionality Reduction"
   ]
  },
  {
   "cell_type": "code",
   "execution_count": 60,
   "metadata": {},
   "outputs": [
    {
     "data": {
      "text/html": [
       "<div>\n",
       "<style scoped>\n",
       "    .dataframe tbody tr th:only-of-type {\n",
       "        vertical-align: middle;\n",
       "    }\n",
       "\n",
       "    .dataframe tbody tr th {\n",
       "        vertical-align: top;\n",
       "    }\n",
       "\n",
       "    .dataframe thead th {\n",
       "        text-align: right;\n",
       "    }\n",
       "</style>\n",
       "<table border=\"1\" class=\"dataframe\">\n",
       "  <thead>\n",
       "    <tr style=\"text-align: right;\">\n",
       "      <th></th>\n",
       "      <th>ID</th>\n",
       "      <th>Reason_for_absence</th>\n",
       "      <th>Month_of_absence</th>\n",
       "      <th>Day_of_the_week</th>\n",
       "      <th>Seasons</th>\n",
       "      <th>Transportation_expense</th>\n",
       "      <th>Distance_from_Residence_to_Work</th>\n",
       "      <th>Service_time</th>\n",
       "      <th>Age</th>\n",
       "      <th>Work_load_Average_per_day</th>\n",
       "      <th>Hit_target</th>\n",
       "      <th>Disciplinary_failure</th>\n",
       "      <th>Education</th>\n",
       "      <th>Son</th>\n",
       "      <th>Social_drinker</th>\n",
       "      <th>Social_smoker</th>\n",
       "      <th>Pet</th>\n",
       "      <th>Height</th>\n",
       "      <th>Body_mass_index</th>\n",
       "      <th>Absenteeism_time_in_hours</th>\n",
       "    </tr>\n",
       "  </thead>\n",
       "  <tbody>\n",
       "    <tr>\n",
       "      <th>0</th>\n",
       "      <td>11</td>\n",
       "      <td>26.0</td>\n",
       "      <td>7.0</td>\n",
       "      <td>3</td>\n",
       "      <td>1</td>\n",
       "      <td>289.0</td>\n",
       "      <td>36.0</td>\n",
       "      <td>13.0</td>\n",
       "      <td>33.0</td>\n",
       "      <td>6.0</td>\n",
       "      <td>97.0</td>\n",
       "      <td>0.0</td>\n",
       "      <td>1.0</td>\n",
       "      <td>2.0</td>\n",
       "      <td>1.0</td>\n",
       "      <td>0.0</td>\n",
       "      <td>1.0</td>\n",
       "      <td>172.0</td>\n",
       "      <td>30.0</td>\n",
       "      <td>4.0</td>\n",
       "    </tr>\n",
       "    <tr>\n",
       "      <th>1</th>\n",
       "      <td>36</td>\n",
       "      <td>26.0</td>\n",
       "      <td>7.0</td>\n",
       "      <td>3</td>\n",
       "      <td>1</td>\n",
       "      <td>118.0</td>\n",
       "      <td>13.0</td>\n",
       "      <td>18.0</td>\n",
       "      <td>50.0</td>\n",
       "      <td>6.0</td>\n",
       "      <td>97.0</td>\n",
       "      <td>1.0</td>\n",
       "      <td>1.0</td>\n",
       "      <td>1.0</td>\n",
       "      <td>1.0</td>\n",
       "      <td>0.0</td>\n",
       "      <td>0.0</td>\n",
       "      <td>170.0</td>\n",
       "      <td>31.0</td>\n",
       "      <td>0.0</td>\n",
       "    </tr>\n",
       "    <tr>\n",
       "      <th>2</th>\n",
       "      <td>3</td>\n",
       "      <td>23.0</td>\n",
       "      <td>7.0</td>\n",
       "      <td>4</td>\n",
       "      <td>1</td>\n",
       "      <td>179.0</td>\n",
       "      <td>51.0</td>\n",
       "      <td>18.0</td>\n",
       "      <td>38.0</td>\n",
       "      <td>6.0</td>\n",
       "      <td>97.0</td>\n",
       "      <td>0.0</td>\n",
       "      <td>1.0</td>\n",
       "      <td>0.0</td>\n",
       "      <td>1.0</td>\n",
       "      <td>0.0</td>\n",
       "      <td>0.0</td>\n",
       "      <td>170.0</td>\n",
       "      <td>31.0</td>\n",
       "      <td>2.0</td>\n",
       "    </tr>\n",
       "    <tr>\n",
       "      <th>3</th>\n",
       "      <td>7</td>\n",
       "      <td>7.0</td>\n",
       "      <td>7.0</td>\n",
       "      <td>5</td>\n",
       "      <td>1</td>\n",
       "      <td>279.0</td>\n",
       "      <td>5.0</td>\n",
       "      <td>14.0</td>\n",
       "      <td>39.0</td>\n",
       "      <td>6.0</td>\n",
       "      <td>97.0</td>\n",
       "      <td>0.0</td>\n",
       "      <td>1.0</td>\n",
       "      <td>2.0</td>\n",
       "      <td>1.0</td>\n",
       "      <td>1.0</td>\n",
       "      <td>0.0</td>\n",
       "      <td>168.0</td>\n",
       "      <td>24.0</td>\n",
       "      <td>4.0</td>\n",
       "    </tr>\n",
       "    <tr>\n",
       "      <th>4</th>\n",
       "      <td>11</td>\n",
       "      <td>23.0</td>\n",
       "      <td>7.0</td>\n",
       "      <td>5</td>\n",
       "      <td>1</td>\n",
       "      <td>289.0</td>\n",
       "      <td>36.0</td>\n",
       "      <td>13.0</td>\n",
       "      <td>33.0</td>\n",
       "      <td>6.0</td>\n",
       "      <td>97.0</td>\n",
       "      <td>0.0</td>\n",
       "      <td>1.0</td>\n",
       "      <td>2.0</td>\n",
       "      <td>1.0</td>\n",
       "      <td>0.0</td>\n",
       "      <td>1.0</td>\n",
       "      <td>172.0</td>\n",
       "      <td>30.0</td>\n",
       "      <td>2.0</td>\n",
       "    </tr>\n",
       "  </tbody>\n",
       "</table>\n",
       "</div>"
      ],
      "text/plain": [
       "   ID Reason_for_absence Month_of_absence Day_of_the_week Seasons  \\\n",
       "0  11               26.0              7.0               3       1   \n",
       "1  36               26.0              7.0               3       1   \n",
       "2   3               23.0              7.0               4       1   \n",
       "3   7                7.0              7.0               5       1   \n",
       "4  11               23.0              7.0               5       1   \n",
       "\n",
       "   Transportation_expense  Distance_from_Residence_to_Work  Service_time  \\\n",
       "0                   289.0                             36.0          13.0   \n",
       "1                   118.0                             13.0          18.0   \n",
       "2                   179.0                             51.0          18.0   \n",
       "3                   279.0                              5.0          14.0   \n",
       "4                   289.0                             36.0          13.0   \n",
       "\n",
       "    Age  Work_load_Average_per_day  Hit_target Disciplinary_failure Education  \\\n",
       "0  33.0                        6.0        97.0                  0.0       1.0   \n",
       "1  50.0                        6.0        97.0                  1.0       1.0   \n",
       "2  38.0                        6.0        97.0                  0.0       1.0   \n",
       "3  39.0                        6.0        97.0                  0.0       1.0   \n",
       "4  33.0                        6.0        97.0                  0.0       1.0   \n",
       "\n",
       "   Son Social_drinker Social_smoker  Pet  Height  Body_mass_index  \\\n",
       "0  2.0            1.0           0.0  1.0   172.0             30.0   \n",
       "1  1.0            1.0           0.0  0.0   170.0             31.0   \n",
       "2  0.0            1.0           0.0  0.0   170.0             31.0   \n",
       "3  2.0            1.0           1.0  0.0   168.0             24.0   \n",
       "4  2.0            1.0           0.0  1.0   172.0             30.0   \n",
       "\n",
       "   Absenteeism_time_in_hours  \n",
       "0                        4.0  \n",
       "1                        0.0  \n",
       "2                        2.0  \n",
       "3                        4.0  \n",
       "4                        2.0  "
      ]
     },
     "execution_count": 60,
     "metadata": {},
     "output_type": "execute_result"
    }
   ],
   "source": [
    "absenteeism_data = absenteeism_data.drop([\"Weight\",],axis = 1)\n",
    "absenteeism_data.head()"
   ]
  },
  {
   "cell_type": "markdown",
   "metadata": {},
   "source": [
    "## Sampling"
   ]
  },
  {
   "cell_type": "code",
   "execution_count": 61,
   "metadata": {},
   "outputs": [
    {
     "data": {
      "text/plain": [
       "ID                                 float64\n",
       "Reason_for_absence                 float64\n",
       "Month_of_absence                   float64\n",
       "Day_of_the_week                    float64\n",
       "Seasons                            float64\n",
       "Transportation_expense             float64\n",
       "Distance_from_Residence_to_Work    float64\n",
       "Service_time                       float64\n",
       "Age                                float64\n",
       "Work_load_Average_per_day          float64\n",
       "Hit_target                         float64\n",
       "Disciplinary_failure               float64\n",
       "Education                          float64\n",
       "Son                                float64\n",
       "Social_drinker                     float64\n",
       "Social_smoker                      float64\n",
       "Pet                                float64\n",
       "Height                             float64\n",
       "Body_mass_index                    float64\n",
       "Absenteeism_time_in_hours          float64\n",
       "dtype: object"
      ]
     },
     "execution_count": 61,
     "metadata": {},
     "output_type": "execute_result"
    }
   ],
   "source": [
    "#Parsing all the variable into float\n",
    "for i in absenteeism_data.columns.values:\n",
    "    absenteeism_data[i] = absenteeism_data[i].astype('float')\n",
    "absenteeism_data.dtypes"
   ]
  },
  {
   "cell_type": "code",
   "execution_count": 62,
   "metadata": {},
   "outputs": [],
   "source": [
    "#Splitting data into train and test set\n",
    "X = absenteeism_data.iloc[:,0:14].values\n",
    "y = absenteeism_data.iloc[:,14].values\n",
    "X_train, X_test, y_train, y_test = train_test_split(X, y, test_size = 0.2, random_state = 0)\n"
   ]
  },
  {
   "cell_type": "markdown",
   "metadata": {},
   "source": [
    "## Model Building"
   ]
  },
  {
   "cell_type": "code",
   "execution_count": 63,
   "metadata": {},
   "outputs": [],
   "source": [
    "#Define function to calculate RMSE\n",
    "def RMSE(y_actual,y_predicted):\n",
    "    rmse = np.sqrt(mean_squared_error(y_actual,y_predicted))\n",
    "    return rmse"
   ]
  },
  {
   "cell_type": "markdown",
   "metadata": {},
   "source": [
    "### Multiple linear regression"
   ]
  },
  {
   "cell_type": "code",
   "execution_count": 64,
   "metadata": {},
   "outputs": [],
   "source": [
    "# Root Mean Squared Error: 0.3918619392842273\n",
    "# R^2 Score(coefficient of determination) = 0.3594580473656487"
   ]
  },
  {
   "cell_type": "code",
   "execution_count": 65,
   "metadata": {},
   "outputs": [
    {
     "data": {
      "text/plain": [
       "LinearRegression()"
      ]
     },
     "execution_count": 65,
     "metadata": {},
     "output_type": "execute_result"
    }
   ],
   "source": [
    "#Training\n",
    "regressor_mlr = LinearRegression()\n",
    "regressor_mlr.fit(X_train, y_train)"
   ]
  },
  {
   "cell_type": "code",
   "execution_count": 66,
   "metadata": {},
   "outputs": [
    {
     "name": "stdout",
     "output_type": "stream",
     "text": [
      "[[ 0.6   0.  ]\n",
      " [ 0.54  1.  ]\n",
      " [ 1.05  1.  ]\n",
      " [ 1.12  0.  ]\n",
      " [ 0.69  1.  ]\n",
      " [ 0.78  1.  ]\n",
      " [ 0.85  1.  ]\n",
      " [ 0.79  0.  ]\n",
      " [ 0.15  0.  ]\n",
      " [ 0.21  1.  ]\n",
      " [ 0.33  0.  ]\n",
      " [ 0.75  1.  ]\n",
      " [ 0.41  1.  ]\n",
      " [ 0.13  1.  ]\n",
      " [ 0.78  1.  ]\n",
      " [ 0.9   1.  ]\n",
      " [ 0.31  0.  ]\n",
      " [ 0.61  1.  ]\n",
      " [ 0.31  0.  ]\n",
      " [ 0.91  1.  ]\n",
      " [ 0.48  1.  ]\n",
      " [ 0.54  0.  ]\n",
      " [ 0.94  1.  ]\n",
      " [ 0.61  0.  ]\n",
      " [ 0.1   0.  ]\n",
      " [ 0.14  1.  ]\n",
      " [ 0.37  0.  ]\n",
      " [ 0.07  0.  ]\n",
      " [ 0.24  0.  ]\n",
      " [ 0.11  0.  ]\n",
      " [ 0.56  1.  ]\n",
      " [-0.07  0.  ]\n",
      " [ 0.69  1.  ]\n",
      " [ 0.21  0.  ]\n",
      " [ 0.4   1.  ]\n",
      " [ 1.04  1.  ]\n",
      " [ 0.59  1.  ]\n",
      " [-0.09  0.  ]\n",
      " [ 0.75  1.  ]\n",
      " [ 0.85  1.  ]\n",
      " [ 0.87  1.  ]\n",
      " [ 0.42  1.  ]\n",
      " [ 0.84  1.  ]\n",
      " [ 0.87  1.  ]\n",
      " [ 1.04  1.  ]\n",
      " [ 1.01  1.  ]\n",
      " [ 0.11  0.  ]\n",
      " [ 0.81  1.  ]\n",
      " [ 0.53  0.  ]\n",
      " [ 0.52  1.  ]\n",
      " [ 0.69  1.  ]\n",
      " [ 0.48  0.  ]\n",
      " [ 0.59  1.  ]\n",
      " [ 1.01  1.  ]\n",
      " [ 0.25  0.  ]\n",
      " [ 0.51  1.  ]\n",
      " [-0.12  0.  ]\n",
      " [ 0.42  1.  ]\n",
      " [ 0.13  0.  ]\n",
      " [ 1.06  1.  ]\n",
      " [-0.1   0.  ]\n",
      " [ 0.4   0.  ]\n",
      " [-0.14  0.  ]\n",
      " [ 1.09  1.  ]\n",
      " [ 0.86  1.  ]\n",
      " [ 0.84  1.  ]\n",
      " [ 0.81  1.  ]\n",
      " [ 0.42  1.  ]\n",
      " [ 0.52  1.  ]\n",
      " [ 1.09  1.  ]\n",
      " [ 0.68  0.  ]\n",
      " [ 0.91  1.  ]\n",
      " [ 0.41  0.  ]\n",
      " [ 0.74  1.  ]\n",
      " [ 0.91  1.  ]\n",
      " [ 0.44  1.  ]\n",
      " [ 0.6   1.  ]\n",
      " [ 0.25  0.  ]\n",
      " [ 0.93  1.  ]\n",
      " [ 0.41  0.  ]\n",
      " [ 0.99  1.  ]\n",
      " [-0.17  1.  ]\n",
      " [ 0.3   0.  ]\n",
      " [ 0.84  1.  ]\n",
      " [ 0.75  1.  ]\n",
      " [ 0.1   0.  ]\n",
      " [ 0.72  1.  ]\n",
      " [ 0.83  1.  ]\n",
      " [ 0.92  1.  ]\n",
      " [ 0.89  1.  ]\n",
      " [ 0.84  1.  ]\n",
      " [ 0.11  0.  ]\n",
      " [ 0.79  1.  ]\n",
      " [ 0.08  0.  ]\n",
      " [ 0.7   1.  ]\n",
      " [ 0.31  0.  ]\n",
      " [ 0.92  1.  ]\n",
      " [ 0.99  1.  ]\n",
      " [ 0.75  0.  ]\n",
      " [ 0.41  1.  ]\n",
      " [ 1.07  1.  ]\n",
      " [ 0.26  0.  ]\n",
      " [ 0.72  0.  ]\n",
      " [ 1.03  1.  ]\n",
      " [ 0.61  1.  ]\n",
      " [ 0.27  0.  ]\n",
      " [-0.06  0.  ]\n",
      " [ 0.47  1.  ]\n",
      " [-0.14  1.  ]\n",
      " [ 1.03  1.  ]\n",
      " [ 0.29  0.  ]\n",
      " [ 0.32  0.  ]\n",
      " [ 0.88  1.  ]\n",
      " [ 0.73  1.  ]\n",
      " [ 1.05  1.  ]\n",
      " [ 0.83  1.  ]\n",
      " [ 0.5   0.  ]\n",
      " [ 0.25  0.  ]\n",
      " [ 0.75  0.  ]\n",
      " [ 0.95  1.  ]\n",
      " [ 0.73  1.  ]\n",
      " [ 0.71  1.  ]\n",
      " [ 0.95  1.  ]\n",
      " [-0.15  0.  ]\n",
      " [ 0.62  0.  ]\n",
      " [ 0.55  1.  ]\n",
      " [ 0.84  0.  ]\n",
      " [ 0.3   0.  ]\n",
      " [ 0.39  1.  ]\n",
      " [ 0.27  0.  ]\n",
      " [ 0.42  1.  ]\n",
      " [ 1.02  1.  ]\n",
      " [ 0.27  0.  ]\n",
      " [-0.16  0.  ]\n",
      " [ 0.1   0.  ]\n",
      " [ 0.25  0.  ]\n",
      " [ 0.52  1.  ]\n",
      " [ 0.89  1.  ]\n",
      " [ 0.75  0.  ]\n",
      " [ 0.84  1.  ]\n",
      " [ 0.16  0.  ]\n",
      " [ 0.31  0.  ]\n",
      " [ 0.53  1.  ]\n",
      " [ 0.48  0.  ]\n",
      " [ 0.69  1.  ]\n",
      " [ 1.03  1.  ]\n",
      " [ 0.1   0.  ]\n",
      " [ 0.78  1.  ]]\n"
     ]
    }
   ],
   "source": [
    "#Predicting test values\n",
    "y_pred_mlr = regressor_mlr.predict(X_test)\n",
    "np.set_printoptions(precision=2)\n",
    "print(np.concatenate((y_pred_mlr.reshape(len(y_pred_mlr),1), y_test.reshape(len(y_test),1)),1))"
   ]
  },
  {
   "cell_type": "code",
   "execution_count": 67,
   "metadata": {},
   "outputs": [
    {
     "name": "stdout",
     "output_type": "stream",
     "text": [
      "Root Mean Squared Error: 0.3918619392842273\n",
      "R^2 Score(coefficient of determination) = 0.3594580473656487\n"
     ]
    }
   ],
   "source": [
    "#Calculate RMSE and R-squared value for MLR\n",
    "print(\"Root Mean Squared Error: \"+str(RMSE(y_test, y_pred_mlr)))\n",
    "print(\"R^2 Score(coefficient of determination) = \"+str(r2_score(y_test, y_pred_mlr)))"
   ]
  },
  {
   "cell_type": "markdown",
   "metadata": {},
   "source": [
    "### Decision tree"
   ]
  },
  {
   "cell_type": "code",
   "execution_count": 68,
   "metadata": {},
   "outputs": [],
   "source": [
    "# Root Mean Squared Error: 0.3049442902756884\n",
    "# R^2 Score(coefficient of determination) = 0.6120976374325146"
   ]
  },
  {
   "cell_type": "code",
   "execution_count": 69,
   "metadata": {},
   "outputs": [
    {
     "data": {
      "text/plain": [
       "DecisionTreeRegressor(max_depth=2, random_state=0)"
      ]
     },
     "execution_count": 69,
     "metadata": {},
     "output_type": "execute_result"
    }
   ],
   "source": [
    "#Training\n",
    "regressor_dt = DecisionTreeRegressor(max_depth=2,random_state = 0)\n",
    "regressor_dt.fit(X, y)"
   ]
  },
  {
   "cell_type": "code",
   "execution_count": 70,
   "metadata": {},
   "outputs": [
    {
     "name": "stdout",
     "output_type": "stream",
     "text": [
      "[[0.86 0.  ]\n",
      " [0.86 1.  ]\n",
      " [0.86 1.  ]\n",
      " [0.86 0.  ]\n",
      " [0.86 1.  ]\n",
      " [0.86 1.  ]\n",
      " [0.86 1.  ]\n",
      " [0.86 0.  ]\n",
      " [0.   0.  ]\n",
      " [0.84 1.  ]\n",
      " [0.84 0.  ]\n",
      " [0.86 1.  ]\n",
      " [0.86 1.  ]\n",
      " [0.84 1.  ]\n",
      " [0.86 1.  ]\n",
      " [0.86 1.  ]\n",
      " [0.   0.  ]\n",
      " [0.86 1.  ]\n",
      " [0.   0.  ]\n",
      " [0.86 1.  ]\n",
      " [0.86 1.  ]\n",
      " [0.86 0.  ]\n",
      " [0.86 1.  ]\n",
      " [0.86 0.  ]\n",
      " [0.   0.  ]\n",
      " [0.84 1.  ]\n",
      " [0.09 0.  ]\n",
      " [0.   0.  ]\n",
      " [0.   0.  ]\n",
      " [0.   0.  ]\n",
      " [0.86 1.  ]\n",
      " [0.   0.  ]\n",
      " [0.86 1.  ]\n",
      " [0.   0.  ]\n",
      " [0.86 1.  ]\n",
      " [0.86 1.  ]\n",
      " [0.86 1.  ]\n",
      " [0.   0.  ]\n",
      " [0.86 1.  ]\n",
      " [0.86 1.  ]\n",
      " [0.86 1.  ]\n",
      " [0.86 1.  ]\n",
      " [0.86 1.  ]\n",
      " [0.86 1.  ]\n",
      " [0.86 1.  ]\n",
      " [0.86 1.  ]\n",
      " [0.   0.  ]\n",
      " [0.86 1.  ]\n",
      " [0.09 0.  ]\n",
      " [0.86 1.  ]\n",
      " [0.86 1.  ]\n",
      " [0.09 0.  ]\n",
      " [0.86 1.  ]\n",
      " [0.86 1.  ]\n",
      " [0.   0.  ]\n",
      " [0.86 1.  ]\n",
      " [0.   0.  ]\n",
      " [0.86 1.  ]\n",
      " [0.   0.  ]\n",
      " [0.86 1.  ]\n",
      " [0.   0.  ]\n",
      " [0.09 0.  ]\n",
      " [0.   0.  ]\n",
      " [0.86 1.  ]\n",
      " [0.86 1.  ]\n",
      " [0.86 1.  ]\n",
      " [0.86 1.  ]\n",
      " [0.86 1.  ]\n",
      " [0.86 1.  ]\n",
      " [0.86 1.  ]\n",
      " [0.86 0.  ]\n",
      " [0.86 1.  ]\n",
      " [0.09 0.  ]\n",
      " [0.84 1.  ]\n",
      " [0.86 1.  ]\n",
      " [0.86 1.  ]\n",
      " [0.86 1.  ]\n",
      " [0.   0.  ]\n",
      " [0.86 1.  ]\n",
      " [0.09 0.  ]\n",
      " [0.86 1.  ]\n",
      " [0.09 1.  ]\n",
      " [0.   0.  ]\n",
      " [0.86 1.  ]\n",
      " [0.84 1.  ]\n",
      " [0.   0.  ]\n",
      " [0.86 1.  ]\n",
      " [0.86 1.  ]\n",
      " [0.86 1.  ]\n",
      " [0.86 1.  ]\n",
      " [0.86 1.  ]\n",
      " [0.   0.  ]\n",
      " [0.86 1.  ]\n",
      " [0.   0.  ]\n",
      " [0.86 1.  ]\n",
      " [0.   0.  ]\n",
      " [0.86 1.  ]\n",
      " [0.86 1.  ]\n",
      " [0.86 0.  ]\n",
      " [0.86 1.  ]\n",
      " [0.86 1.  ]\n",
      " [0.   0.  ]\n",
      " [0.86 0.  ]\n",
      " [0.86 1.  ]\n",
      " [0.86 1.  ]\n",
      " [0.   0.  ]\n",
      " [0.   0.  ]\n",
      " [0.86 1.  ]\n",
      " [0.09 1.  ]\n",
      " [0.86 1.  ]\n",
      " [0.   0.  ]\n",
      " [0.09 0.  ]\n",
      " [0.86 1.  ]\n",
      " [0.86 1.  ]\n",
      " [0.86 1.  ]\n",
      " [0.86 1.  ]\n",
      " [0.09 0.  ]\n",
      " [0.   0.  ]\n",
      " [0.86 0.  ]\n",
      " [0.86 1.  ]\n",
      " [0.86 1.  ]\n",
      " [0.86 1.  ]\n",
      " [0.86 1.  ]\n",
      " [0.   0.  ]\n",
      " [0.86 0.  ]\n",
      " [0.86 1.  ]\n",
      " [0.86 0.  ]\n",
      " [0.   0.  ]\n",
      " [0.86 1.  ]\n",
      " [0.   0.  ]\n",
      " [0.86 1.  ]\n",
      " [0.86 1.  ]\n",
      " [0.   0.  ]\n",
      " [0.   0.  ]\n",
      " [0.   0.  ]\n",
      " [0.   0.  ]\n",
      " [0.86 1.  ]\n",
      " [0.86 1.  ]\n",
      " [0.86 0.  ]\n",
      " [0.86 1.  ]\n",
      " [0.   0.  ]\n",
      " [0.84 0.  ]\n",
      " [0.86 1.  ]\n",
      " [0.09 0.  ]\n",
      " [0.86 1.  ]\n",
      " [0.86 1.  ]\n",
      " [0.   0.  ]\n",
      " [0.86 1.  ]]\n"
     ]
    }
   ],
   "source": [
    "#Predicting test value\n",
    "y_pred_dt = regressor_dt.predict(X_test)\n",
    "np.set_printoptions(precision=2)\n",
    "print(np.concatenate((y_pred_dt.reshape(len(y_pred_dt),1), y_test.reshape(len(y_test),1)),1))"
   ]
  },
  {
   "cell_type": "code",
   "execution_count": 71,
   "metadata": {},
   "outputs": [
    {
     "name": "stdout",
     "output_type": "stream",
     "text": [
      "Root Mean Squared Error: 0.3049442902756884\n",
      "R^2 Score(coefficient of determination) = 0.6120976374325146\n"
     ]
    }
   ],
   "source": [
    "#Calculate RMSE and R-squared value for MLR\n",
    "print(\"Root Mean Squared Error: \"+str(RMSE(y_test, y_pred_dt)))\n",
    "print(\"R^2 Score(coefficient of determination) = \"+str(r2_score(y_test, y_pred_dt)))"
   ]
  },
  {
   "cell_type": "markdown",
   "metadata": {},
   "source": [
    "### Random Forest"
   ]
  },
  {
   "cell_type": "code",
   "execution_count": 72,
   "metadata": {},
   "outputs": [],
   "source": [
    "# Root Mean Squared Error: 0.027262487840313526\n",
    "# R^2 Score(coefficient of determination) = 0.9968996381641592"
   ]
  },
  {
   "cell_type": "code",
   "execution_count": 73,
   "metadata": {},
   "outputs": [
    {
     "data": {
      "text/plain": [
       "RandomForestRegressor(n_estimators=10, random_state=0)"
      ]
     },
     "execution_count": 73,
     "metadata": {},
     "output_type": "execute_result"
    }
   ],
   "source": [
    "#Training\n",
    "regressor_rf = RandomForestRegressor(n_estimators = 10, random_state = 0)\n",
    "regressor_rf.fit(X, y)"
   ]
  },
  {
   "cell_type": "code",
   "execution_count": 74,
   "metadata": {},
   "outputs": [
    {
     "name": "stdout",
     "output_type": "stream",
     "text": [
      "[[0.  0. ]\n",
      " [1.  1. ]\n",
      " [1.  1. ]\n",
      " [0.  0. ]\n",
      " [1.  1. ]\n",
      " [1.  1. ]\n",
      " [1.  1. ]\n",
      " [0.  0. ]\n",
      " [0.  0. ]\n",
      " [0.9 1. ]\n",
      " [0.1 0. ]\n",
      " [1.  1. ]\n",
      " [1.  1. ]\n",
      " [0.8 1. ]\n",
      " [1.  1. ]\n",
      " [1.  1. ]\n",
      " [0.  0. ]\n",
      " [1.  1. ]\n",
      " [0.  0. ]\n",
      " [1.  1. ]\n",
      " [1.  1. ]\n",
      " [0.  0. ]\n",
      " [1.  1. ]\n",
      " [0.  0. ]\n",
      " [0.  0. ]\n",
      " [0.9 1. ]\n",
      " [0.  0. ]\n",
      " [0.  0. ]\n",
      " [0.  0. ]\n",
      " [0.  0. ]\n",
      " [1.  1. ]\n",
      " [0.  0. ]\n",
      " [1.  1. ]\n",
      " [0.  0. ]\n",
      " [1.  1. ]\n",
      " [1.  1. ]\n",
      " [1.  1. ]\n",
      " [0.  0. ]\n",
      " [1.  1. ]\n",
      " [1.  1. ]\n",
      " [1.  1. ]\n",
      " [1.  1. ]\n",
      " [1.  1. ]\n",
      " [1.  1. ]\n",
      " [1.  1. ]\n",
      " [1.  1. ]\n",
      " [0.  0. ]\n",
      " [1.  1. ]\n",
      " [0.  0. ]\n",
      " [1.  1. ]\n",
      " [1.  1. ]\n",
      " [0.  0. ]\n",
      " [1.  1. ]\n",
      " [1.  1. ]\n",
      " [0.  0. ]\n",
      " [1.  1. ]\n",
      " [0.  0. ]\n",
      " [1.  1. ]\n",
      " [0.  0. ]\n",
      " [1.  1. ]\n",
      " [0.  0. ]\n",
      " [0.  0. ]\n",
      " [0.  0. ]\n",
      " [1.  1. ]\n",
      " [1.  1. ]\n",
      " [1.  1. ]\n",
      " [1.  1. ]\n",
      " [1.  1. ]\n",
      " [1.  1. ]\n",
      " [1.  1. ]\n",
      " [0.  0. ]\n",
      " [1.  1. ]\n",
      " [0.  0. ]\n",
      " [1.  1. ]\n",
      " [1.  1. ]\n",
      " [1.  1. ]\n",
      " [1.  1. ]\n",
      " [0.  0. ]\n",
      " [1.  1. ]\n",
      " [0.  0. ]\n",
      " [1.  1. ]\n",
      " [0.9 1. ]\n",
      " [0.  0. ]\n",
      " [1.  1. ]\n",
      " [1.  1. ]\n",
      " [0.  0. ]\n",
      " [1.  1. ]\n",
      " [1.  1. ]\n",
      " [1.  1. ]\n",
      " [1.  1. ]\n",
      " [0.9 1. ]\n",
      " [0.  0. ]\n",
      " [1.  1. ]\n",
      " [0.  0. ]\n",
      " [1.  1. ]\n",
      " [0.  0. ]\n",
      " [1.  1. ]\n",
      " [1.  1. ]\n",
      " [0.  0. ]\n",
      " [1.  1. ]\n",
      " [1.  1. ]\n",
      " [0.  0. ]\n",
      " [0.1 0. ]\n",
      " [1.  1. ]\n",
      " [1.  1. ]\n",
      " [0.  0. ]\n",
      " [0.  0. ]\n",
      " [1.  1. ]\n",
      " [0.9 1. ]\n",
      " [1.  1. ]\n",
      " [0.  0. ]\n",
      " [0.  0. ]\n",
      " [1.  1. ]\n",
      " [1.  1. ]\n",
      " [1.  1. ]\n",
      " [1.  1. ]\n",
      " [0.  0. ]\n",
      " [0.  0. ]\n",
      " [0.  0. ]\n",
      " [1.  1. ]\n",
      " [1.  1. ]\n",
      " [1.  1. ]\n",
      " [1.  1. ]\n",
      " [0.  0. ]\n",
      " [0.  0. ]\n",
      " [1.  1. ]\n",
      " [0.  0. ]\n",
      " [0.  0. ]\n",
      " [1.  1. ]\n",
      " [0.  0. ]\n",
      " [1.  1. ]\n",
      " [1.  1. ]\n",
      " [0.  0. ]\n",
      " [0.  0. ]\n",
      " [0.  0. ]\n",
      " [0.  0. ]\n",
      " [1.  1. ]\n",
      " [1.  1. ]\n",
      " [0.  0. ]\n",
      " [1.  1. ]\n",
      " [0.  0. ]\n",
      " [0.  0. ]\n",
      " [1.  1. ]\n",
      " [0.  0. ]\n",
      " [1.  1. ]\n",
      " [1.  1. ]\n",
      " [0.  0. ]\n",
      " [1.  1. ]]\n"
     ]
    }
   ],
   "source": [
    "#Predicting test value\n",
    "y_pred_rf = regressor_rf.predict(X_test)\n",
    "np.set_printoptions(precision=2)\n",
    "print(np.concatenate((y_pred_rf.reshape(len(y_pred_rf),1), y_test.reshape(len(y_test),1)),1))"
   ]
  },
  {
   "cell_type": "code",
   "execution_count": 75,
   "metadata": {},
   "outputs": [
    {
     "name": "stdout",
     "output_type": "stream",
     "text": [
      "Root Mean Squared Error: 0.027262487840313526\n",
      "R^2 Score(coefficient of determination) = 0.9968996381641592\n"
     ]
    }
   ],
   "source": [
    "#Calculate RMSE and R-squared value for MLR\n",
    "print(\"Root Mean Squared Error: \"+str(RMSE(y_test, y_pred_rf)))\n",
    "print(\"R^2 Score(coefficient of determination) = \"+str(r2_score(y_test, y_pred_rf)))"
   ]
  },
  {
   "cell_type": "markdown",
   "metadata": {},
   "source": [
    "## Model Inference"
   ]
  },
  {
   "cell_type": "code",
   "execution_count": 76,
   "metadata": {},
   "outputs": [
    {
     "data": {
      "text/plain": [
       "Absenteeism_time_in_hours          1.000000\n",
       "Transportation_expense             0.183180\n",
       "Son                                0.153904\n",
       "Social_drinker                     0.074275\n",
       "Social_smoker                      0.047860\n",
       "Height                             0.037764\n",
       "Pet                                0.032846\n",
       "Education                          0.027376\n",
       "Work_load_Average_per_day          0.025548\n",
       "Month_of_absence                   0.019297\n",
       "Hit_target                         0.014684\n",
       "Distance_from_Residence_to_Work   -0.000449\n",
       "Body_mass_index                   -0.031638\n",
       "Seasons                           -0.034828\n",
       "Day_of_the_week                   -0.058653\n",
       "Service_time                      -0.075805\n",
       "Age                               -0.084535\n",
       "ID                                -0.128283\n",
       "Disciplinary_failure              -0.223187\n",
       "Reason_for_absence                -0.355886\n",
       "Name: Absenteeism_time_in_hours, dtype: float64"
      ]
     },
     "execution_count": 76,
     "metadata": {},
     "output_type": "execute_result"
    }
   ],
   "source": [
    "#numeric_variables_list1 = [\"Transportation_expense\",\"Distance_from_Residence_to_Work\",\"Service_time\",\"Age\",\"Work_load_Average_per_day\",\"Hit_target\",\"Height\",\"Body_mass_index\",\"Absenteeism_time_in_hours\"]\n",
    "variable_list = absenteeism_data.columns.values\n",
    "corr_target=absenteeism_data[variable_list].corr()\n",
    "corr_target = corr_target.sort_values('Absenteeism_time_in_hours', ascending = False)\n",
    "corr_target[\"Absenteeism_time_in_hours\"]\n"
   ]
  },
  {
   "cell_type": "code",
   "execution_count": 77,
   "metadata": {},
   "outputs": [
    {
     "data": {
      "text/plain": [
       "<AxesSubplot:xlabel='Reason_for_absence'>"
      ]
     },
     "execution_count": 77,
     "metadata": {},
     "output_type": "execute_result"
    },
    {
     "data": {
      "image/png": "[encoded data removed]",
      "text/plain": [
       "<Figure size 432x288 with 1 Axes>"
      ]
     },
     "metadata": {
      "needs_background": "light"
     },
     "output_type": "display_data"
    }
   ],
   "source": [
    "#Plotting graph to show the significance of Reason_for_absence\n",
    "absenteeism_data.groupby('Reason_for_absence').Absenteeism_time_in_hours.sum().plot(kind='bar')\n"
   ]
  },
  {
   "cell_type": "code",
   "execution_count": 78,
   "metadata": {},
   "outputs": [
    {
     "data": {
      "text/plain": [
       "<AxesSubplot:xlabel='Day_of_the_week'>"
      ]
     },
     "execution_count": 78,
     "metadata": {},
     "output_type": "execute_result"
    },
    {
     "data": {
      "image/png": "[encoded data removed]",
      "text/plain": [
       "<Figure size 432x288 with 1 Axes>"
      ]
     },
     "metadata": {
      "needs_background": "light"
     },
     "output_type": "display_data"
    }
   ],
   "source": [
    "#Plotting graph to show the significance of ID\n",
    "absenteeism_data.groupby('Day_of_the_week').Absenteeism_time_in_hours.sum().plot(kind='bar')\n"
   ]
  },
  {
   "cell_type": "code",
   "execution_count": 79,
   "metadata": {},
   "outputs": [
    {
     "data": {
      "text/plain": [
       "<AxesSubplot:xlabel='ID'>"
      ]
     },
     "execution_count": 79,
     "metadata": {},
     "output_type": "execute_result"
    },
    {
     "data": {
      "image/png": "[encoded data removed]",
      "text/plain": [
       "<Figure size 432x288 with 1 Axes>"
      ]
     },
     "metadata": {
      "needs_background": "light"
     },
     "output_type": "display_data"
    }
   ],
   "source": [
    "#Plotting graph to show the significance of ID\n",
    "absenteeism_data.groupby('ID').Absenteeism_time_in_hours.sum().plot(kind='bar')\n"
   ]
  },
  {
   "cell_type": "code",
   "execution_count": 80,
   "metadata": {},
   "outputs": [
    {
     "data": {
      "text/plain": [
       "<AxesSubplot:xlabel='Distance_from_Residence_to_Work'>"
      ]
     },
     "execution_count": 80,
     "metadata": {},
     "output_type": "execute_result"
    },
    {
     "data": {
      "image/png": "[encoded data removed]",
      "text/plain": [
       "<Figure size 432x288 with 1 Axes>"
      ]
     },
     "metadata": {
      "needs_background": "light"
     },
     "output_type": "display_data"
    }
   ],
   "source": [
    "#Plotting graph to show the significance of Distance_from_Residence_to_Work\n",
    "absenteeism_data.groupby('Distance_from_Residence_to_Work').Absenteeism_time_in_hours.sum().plot(kind='bar')\n"
   ]
  },
  {
   "cell_type": "code",
   "execution_count": 81,
   "metadata": {},
   "outputs": [
    {
     "data": {
      "text/plain": [
       "<AxesSubplot:xlabel='Distance_from_Residence_to_Work'>"
      ]
     },
     "execution_count": 81,
     "metadata": {},
     "output_type": "execute_result"
    },
    {
     "data": {
      "image/png": "[encoded data removed]",
      "text/plain": [
       "<Figure size 432x288 with 1 Axes>"
      ]
     },
     "metadata": {
      "needs_background": "light"
     },
     "output_type": "display_data"
    }
   ],
   "source": [
    "#Plotting graph to show the significance of Distance_from_Residence_to_Work\n",
    "absenteeism_data.groupby('Distance_from_Residence_to_Work').Transportation_expense.sum().plot(kind='bar')\n"
   ]
  },
  {
   "cell_type": "code",
   "execution_count": 82,
   "metadata": {},
   "outputs": [
    {
     "data": {
      "text/plain": [
       "<AxesSubplot:xlabel='Distance_from_Residence_to_Work'>"
      ]
     },
     "execution_count": 82,
     "metadata": {},
     "output_type": "execute_result"
    },
    {
     "data": {
      "image/png": "[encoded data removed]",
      "text/plain": [
       "<Figure size 432x288 with 1 Axes>"
      ]
     },
     "metadata": {
      "needs_background": "light"
     },
     "output_type": "display_data"
    }
   ],
   "source": [
    "#Plotting graph to show the significance of Distance_from_Residence_to_Work\n",
    "absenteeism_data.groupby('Distance_from_Residence_to_Work').Absenteeism_time_in_hours.sum().plot(kind='bar')\n"
   ]
  },
  {
   "cell_type": "markdown",
   "metadata": {},
   "source": [
    "### Monthly loss trend"
   ]
  },
  {
   "cell_type": "code",
   "execution_count": 83,
   "metadata": {},
   "outputs": [
    {
     "data": {
      "text/plain": [
       "<AxesSubplot:xlabel='Month_of_absence'>"
      ]
     },
     "execution_count": 83,
     "metadata": {},
     "output_type": "execute_result"
    },
    {
     "data": {
      "image/png": "[encoded data removed]",
      "text/plain": [
       "<Figure size 432x288 with 1 Axes>"
      ]
     },
     "metadata": {
      "needs_background": "light"
     },
     "output_type": "display_data"
    }
   ],
   "source": [
    "#Plotting graph to show the trend in absence month wise\n",
    "absenteeism_data.groupby('Month_of_absence').Absenteeism_time_in_hours.sum().plot(kind='line')"
   ]
  },
  {
   "cell_type": "code",
   "execution_count": null,
   "metadata": {},
   "outputs": [],
   "source": []
  }
 ],
 "metadata": {
  "kernelspec": {
   "display_name": "Python 3",
   "language": "python",
   "name": "python3"
  },
  "language_info": {
   "codemirror_mode": {
    "name": "ipython",
    "version": 3
   },
   "file_extension": ".py",
   "mimetype": "text/x-python",
   "name": "python",
   "nbconvert_exporter": "python",
   "pygments_lexer": "ipython3",
   "version": "3.8.5"
  }
 },
 "nbformat": 4,
 "nbformat_minor": 4
}
